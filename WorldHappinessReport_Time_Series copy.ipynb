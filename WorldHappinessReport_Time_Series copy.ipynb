{
  "cells": [
    {
      "cell_type": "markdown",
      "metadata": {
        "colab_type": "text",
        "id": "view-in-github"
      },
      "source": [
        "<a href=\"https://colab.research.google.com/github/nicolesaade/WorldHappinessReportAnalysis/blob/main/WorldHappinessReport_Time_Series.ipynb\" target=\"_parent\"><img src=\"https://colab.research.google.com/assets/colab-badge.svg\" alt=\"Open In Colab\"/></a>"
      ]
    },
    {
      "cell_type": "markdown",
      "metadata": {
        "id": "PXIHgWGTW7nz"
      },
      "source": []
    },
    {
      "cell_type": "markdown",
      "metadata": {
        "id": "Y093bVJ3RyYd"
      },
      "source": [
        "#3. Predict 2023 Life Ladder"
      ]
    },
    {
      "cell_type": "code",
      "execution_count": 32,
      "metadata": {},
      "outputs": [],
      "source": [
        "import os\n",
        "import numpy as np\n",
        "import pandas as pd\n",
        "from sklearn.model_selection import train_test_split\n",
        "from sklearn.linear_model import LogisticRegression, LinearRegression\n",
        "from keras.models import Sequential \n",
        "from keras.layers import Dense, LSTM, Dropout"
      ]
    },
    {
      "cell_type": "markdown",
      "metadata": {
        "id": "NsiDnGF5SEHZ"
      },
      "source": [
        "##3(a) Load Life Ladder Score\n",
        "\n"
      ]
    },
    {
      "cell_type": "code",
      "execution_count": 33,
      "metadata": {
        "colab": {
          "base_uri": "https://localhost:8080/",
          "height": 676
        },
        "id": "VWh-R57kRdj8",
        "outputId": "f56606be-b68e-4150-ef40-33ffd2d8ff4d"
      },
      "outputs": [
        {
          "data": {
            "text/html": [
              "<div>\n",
              "<style scoped>\n",
              "    .dataframe tbody tr th:only-of-type {\n",
              "        vertical-align: middle;\n",
              "    }\n",
              "\n",
              "    .dataframe tbody tr th {\n",
              "        vertical-align: top;\n",
              "    }\n",
              "\n",
              "    .dataframe thead th {\n",
              "        text-align: right;\n",
              "    }\n",
              "</style>\n",
              "<table border=\"1\" class=\"dataframe\">\n",
              "  <thead>\n",
              "    <tr style=\"text-align: right;\">\n",
              "      <th></th>\n",
              "      <th>Country name</th>\n",
              "      <th>year</th>\n",
              "      <th>Life Ladder</th>\n",
              "    </tr>\n",
              "  </thead>\n",
              "  <tbody>\n",
              "    <tr>\n",
              "      <th>25</th>\n",
              "      <td>Albania</td>\n",
              "      <td>2018</td>\n",
              "      <td>-0.426173</td>\n",
              "    </tr>\n",
              "    <tr>\n",
              "      <th>26</th>\n",
              "      <td>Albania</td>\n",
              "      <td>2019</td>\n",
              "      <td>-0.434171</td>\n",
              "    </tr>\n",
              "    <tr>\n",
              "      <th>27</th>\n",
              "      <td>Albania</td>\n",
              "      <td>2020</td>\n",
              "      <td>-0.105365</td>\n",
              "    </tr>\n",
              "    <tr>\n",
              "      <th>28</th>\n",
              "      <td>Albania</td>\n",
              "      <td>2021</td>\n",
              "      <td>-0.203118</td>\n",
              "    </tr>\n",
              "    <tr>\n",
              "      <th>29</th>\n",
              "      <td>Albania</td>\n",
              "      <td>2022</td>\n",
              "      <td>-0.241331</td>\n",
              "    </tr>\n",
              "    <tr>\n",
              "      <th>...</th>\n",
              "      <td>...</td>\n",
              "      <td>...</td>\n",
              "      <td>...</td>\n",
              "    </tr>\n",
              "    <tr>\n",
              "      <th>2357</th>\n",
              "      <td>Zimbabwe</td>\n",
              "      <td>2018</td>\n",
              "      <td>-1.659641</td>\n",
              "    </tr>\n",
              "    <tr>\n",
              "      <th>2358</th>\n",
              "      <td>Zimbabwe</td>\n",
              "      <td>2019</td>\n",
              "      <td>-2.478990</td>\n",
              "    </tr>\n",
              "    <tr>\n",
              "      <th>2359</th>\n",
              "      <td>Zimbabwe</td>\n",
              "      <td>2020</td>\n",
              "      <td>-2.064872</td>\n",
              "    </tr>\n",
              "    <tr>\n",
              "      <th>2360</th>\n",
              "      <td>Zimbabwe</td>\n",
              "      <td>2021</td>\n",
              "      <td>-2.069315</td>\n",
              "    </tr>\n",
              "    <tr>\n",
              "      <th>2361</th>\n",
              "      <td>Zimbabwe</td>\n",
              "      <td>2022</td>\n",
              "      <td>-1.944013</td>\n",
              "    </tr>\n",
              "  </tbody>\n",
              "</table>\n",
              "<p>623 rows × 3 columns</p>\n",
              "</div>"
            ],
            "text/plain": [
              "     Country name  year  Life Ladder\n",
              "25        Albania  2018    -0.426173\n",
              "26        Albania  2019    -0.434171\n",
              "27        Albania  2020    -0.105365\n",
              "28        Albania  2021    -0.203118\n",
              "29        Albania  2022    -0.241331\n",
              "...           ...   ...          ...\n",
              "2357     Zimbabwe  2018    -1.659641\n",
              "2358     Zimbabwe  2019    -2.478990\n",
              "2359     Zimbabwe  2020    -2.064872\n",
              "2360     Zimbabwe  2021    -2.069315\n",
              "2361     Zimbabwe  2022    -1.944013\n",
              "\n",
              "[623 rows x 3 columns]"
            ]
          },
          "execution_count": 33,
          "metadata": {},
          "output_type": "execute_result"
        }
      ],
      "source": [
        "import statsmodels.api as sm\n",
        "import pandas as pd\n",
        "from sklearn.preprocessing import StandardScaler\n",
        "\n",
        "# Load data\n",
        "data = pd.read_csv('happiness_dataset.csv')\n",
        "\n",
        "# Normalize data\n",
        "scaler = StandardScaler()\n",
        "data['Life Ladder'] = scaler.fit_transform(data[['Life Ladder']])\n",
        "\n",
        "# Dataframe with life ladder score 2018-2023\n",
        "ladder_data = data[['Country name', 'year', 'Life Ladder']].loc[data['year'].isin([2018, 2019, 2020, 2021, 2022, 2023])]\n",
        "\n",
        "# Remove countries missing any of the 2018-2023 life ladder scores\n",
        "countries = set(ladder_data.loc[ladder_data['year']==2018]['Country name'].unique()).intersection(\n",
        "    ladder_data.loc[ladder_data['year']==2019]['Country name'].unique(),\n",
        "    ladder_data.loc[ladder_data['year']==2020]['Country name'].unique(),\n",
        "    ladder_data.loc[ladder_data['year']==2021]['Country name'].unique(),\n",
        "    ladder_data.loc[ladder_data['year']==2022]['Country name'].unique(),\n",
        "    ladder_data.loc[ladder_data['year']==2023]['Country name'].unique()\n",
        ")\n",
        "ladder_data = ladder_data.loc[ladder_data['Country name'].isin(countries)]\n",
        "\n",
        "# Show all the countries using df.head()\n",
        "ladder_data.head(-1)"
      ]
    },
    {
      "cell_type": "code",
      "execution_count": 34,
      "metadata": {
        "colab": {
          "base_uri": "https://localhost:8080/",
          "height": 430
        },
        "id": "oxOlbWzAAZ_3",
        "outputId": "50234bb3-dcd2-42d6-c63f-6e77586e07b0"
      },
      "outputs": [
        {
          "data": {
            "image/png": "[encoded data removed]",
            "text/plain": [
              "<Figure size 640x480 with 1 Axes>"
            ]
          },
          "metadata": {},
          "output_type": "display_data"
        }
      ],
      "source": [
        "import matplotlib.pyplot as plt\n",
        "\n",
        "for country in data['Country name'].unique():\n",
        "  plt.plot(data.loc[data['Country name']==country]['year'], data.loc[data['Country name']==country]['Life Ladder'])"
      ]
    },
    {
      "cell_type": "markdown",
      "metadata": {
        "id": "7dg_DOStSKcG"
      },
      "source": [
        "##3(b) LSTM"
      ]
    },
    {
      "cell_type": "code",
      "execution_count": 35,
      "metadata": {},
      "outputs": [
        {
          "name": "stdout",
          "output_type": "stream",
          "text": [
            "1/1 [==============================] - 1s 826ms/step\n",
            "1/1 [==============================] - 0s 16ms/step\n",
            "1/1 [==============================] - 0s 13ms/step\n",
            "1/1 [==============================] - 0s 10ms/step\n",
            "1/1 [==============================] - 0s 11ms/step\n",
            "1/1 [==============================] - 0s 11ms/step\n",
            "1/1 [==============================] - 0s 127ms/step\n",
            "1/1 [==============================] - 0s 11ms/step\n",
            "1/1 [==============================] - 0s 13ms/step\n",
            "1/1 [==============================] - 0s 12ms/step\n",
            "1/1 [==============================] - 0s 11ms/step\n",
            "1/1 [==============================] - 0s 11ms/step\n",
            "1/1 [==============================] - 0s 119ms/step\n",
            "1/1 [==============================] - 0s 12ms/step\n",
            "1/1 [==============================] - 0s 10ms/step\n",
            "1/1 [==============================] - 0s 10ms/step\n",
            "1/1 [==============================] - 0s 10ms/step\n",
            "1/1 [==============================] - 0s 10ms/step\n",
            "1/1 [==============================] - 0s 171ms/step\n",
            "1/1 [==============================] - 0s 11ms/step\n",
            "1/1 [==============================] - 0s 11ms/step\n",
            "1/1 [==============================] - 0s 10ms/step\n",
            "1/1 [==============================] - 0s 10ms/step\n",
            "1/1 [==============================] - 0s 10ms/step\n",
            "1/1 [==============================] - 0s 117ms/step\n",
            "1/1 [==============================] - 0s 17ms/step\n",
            "1/1 [==============================] - 0s 11ms/step\n",
            "1/1 [==============================] - 0s 10ms/step\n",
            "1/1 [==============================] - 0s 10ms/step\n",
            "1/1 [==============================] - 0s 10ms/step\n",
            "1/1 [==============================] - 0s 120ms/step\n",
            "1/1 [==============================] - 0s 15ms/step\n",
            "1/1 [==============================] - 0s 11ms/step\n",
            "1/1 [==============================] - 0s 10ms/step\n",
            "1/1 [==============================] - 0s 11ms/step\n",
            "1/1 [==============================] - 0s 12ms/step\n",
            "1/1 [==============================] - 0s 119ms/step\n",
            "1/1 [==============================] - 0s 15ms/step\n",
            "1/1 [==============================] - 0s 10ms/step\n",
            "1/1 [==============================] - 0s 11ms/step\n",
            "1/1 [==============================] - 0s 11ms/step\n",
            "1/1 [==============================] - 0s 11ms/step\n",
            "1/1 [==============================] - 0s 146ms/step\n",
            "1/1 [==============================] - 0s 11ms/step\n",
            "1/1 [==============================] - 0s 10ms/step\n",
            "1/1 [==============================] - 0s 10ms/step\n",
            "1/1 [==============================] - 0s 10ms/step\n",
            "1/1 [==============================] - 0s 11ms/step\n",
            "1/1 [==============================] - 0s 118ms/step\n",
            "1/1 [==============================] - 0s 14ms/step\n",
            "1/1 [==============================] - 0s 11ms/step\n",
            "1/1 [==============================] - 0s 11ms/step\n",
            "1/1 [==============================] - 0s 10ms/step\n",
            "1/1 [==============================] - 0s 10ms/step\n",
            "1/1 [==============================] - 0s 176ms/step\n",
            "1/1 [==============================] - 0s 12ms/step\n",
            "1/1 [==============================] - 0s 11ms/step\n",
            "1/1 [==============================] - 0s 12ms/step\n",
            "1/1 [==============================] - 0s 10ms/step\n",
            "1/1 [==============================] - 0s 11ms/step\n",
            "1/1 [==============================] - 0s 126ms/step\n",
            "1/1 [==============================] - 0s 11ms/step\n",
            "1/1 [==============================] - 0s 10ms/step\n",
            "1/1 [==============================] - 0s 10ms/step\n",
            "1/1 [==============================] - 0s 11ms/step\n",
            "1/1 [==============================] - 0s 12ms/step\n",
            "1/1 [==============================] - 0s 117ms/step\n",
            "1/1 [==============================] - 0s 11ms/step\n",
            "1/1 [==============================] - 0s 10ms/step\n",
            "1/1 [==============================] - 0s 10ms/step\n",
            "1/1 [==============================] - 0s 10ms/step\n",
            "1/1 [==============================] - 0s 11ms/step\n",
            "1/1 [==============================] - 0s 132ms/step\n",
            "1/1 [==============================] - 0s 11ms/step\n",
            "1/1 [==============================] - 0s 10ms/step\n",
            "1/1 [==============================] - 0s 11ms/step\n",
            "1/1 [==============================] - 0s 11ms/step\n",
            "1/1 [==============================] - 0s 11ms/step\n",
            "1/1 [==============================] - 0s 127ms/step\n",
            "1/1 [==============================] - 0s 12ms/step\n",
            "1/1 [==============================] - 0s 10ms/step\n",
            "1/1 [==============================] - 0s 10ms/step\n",
            "1/1 [==============================] - 0s 11ms/step\n",
            "1/1 [==============================] - 0s 11ms/step\n",
            "1/1 [==============================] - 0s 131ms/step\n",
            "1/1 [==============================] - 0s 11ms/step\n",
            "1/1 [==============================] - 0s 10ms/step\n",
            "1/1 [==============================] - 0s 10ms/step\n",
            "1/1 [==============================] - 0s 12ms/step\n",
            "1/1 [==============================] - 0s 12ms/step\n",
            "1/1 [==============================] - 0s 138ms/step\n",
            "1/1 [==============================] - 0s 12ms/step\n",
            "1/1 [==============================] - 0s 10ms/step\n",
            "1/1 [==============================] - 0s 11ms/step\n",
            "1/1 [==============================] - 0s 10ms/step\n",
            "1/1 [==============================] - 0s 11ms/step\n",
            "1/1 [==============================] - 0s 131ms/step\n",
            "1/1 [==============================] - 0s 12ms/step\n",
            "1/1 [==============================] - 0s 11ms/step\n",
            "1/1 [==============================] - 0s 11ms/step\n",
            "1/1 [==============================] - 0s 10ms/step\n",
            "1/1 [==============================] - 0s 10ms/step\n",
            "1/1 [==============================] - 0s 129ms/step\n",
            "1/1 [==============================] - 0s 12ms/step\n",
            "1/1 [==============================] - 0s 11ms/step\n",
            "1/1 [==============================] - 0s 11ms/step\n",
            "1/1 [==============================] - 0s 11ms/step\n",
            "1/1 [==============================] - 0s 10ms/step\n",
            "1/1 [==============================] - 0s 131ms/step\n",
            "1/1 [==============================] - 0s 11ms/step\n",
            "1/1 [==============================] - 0s 11ms/step\n",
            "1/1 [==============================] - 0s 12ms/step\n",
            "1/1 [==============================] - 0s 11ms/step\n",
            "1/1 [==============================] - 0s 10ms/step\n",
            "1/1 [==============================] - 0s 117ms/step\n",
            "1/1 [==============================] - 0s 15ms/step\n",
            "1/1 [==============================] - 0s 12ms/step\n",
            "1/1 [==============================] - 0s 10ms/step\n",
            "1/1 [==============================] - 0s 10ms/step\n",
            "1/1 [==============================] - 0s 11ms/step\n",
            "1/1 [==============================] - 0s 125ms/step\n",
            "1/1 [==============================] - 0s 10ms/step\n",
            "1/1 [==============================] - 0s 11ms/step\n",
            "1/1 [==============================] - 0s 10ms/step\n",
            "1/1 [==============================] - 0s 10ms/step\n",
            "1/1 [==============================] - 0s 11ms/step\n",
            "1/1 [==============================] - 0s 115ms/step\n",
            "1/1 [==============================] - 0s 10ms/step\n",
            "1/1 [==============================] - 0s 10ms/step\n",
            "1/1 [==============================] - 0s 10ms/step\n",
            "1/1 [==============================] - 0s 11ms/step\n",
            "1/1 [==============================] - 0s 13ms/step\n",
            "1/1 [==============================] - 0s 147ms/step\n",
            "1/1 [==============================] - 0s 12ms/step\n",
            "1/1 [==============================] - 0s 10ms/step\n",
            "1/1 [==============================] - 0s 10ms/step\n",
            "1/1 [==============================] - 0s 12ms/step\n",
            "1/1 [==============================] - 0s 10ms/step\n",
            "1/1 [==============================] - 0s 115ms/step\n",
            "1/1 [==============================] - 0s 11ms/step\n",
            "1/1 [==============================] - 0s 10ms/step\n",
            "1/1 [==============================] - 0s 11ms/step\n",
            "1/1 [==============================] - 0s 11ms/step\n",
            "1/1 [==============================] - 0s 10ms/step\n",
            "1/1 [==============================] - 0s 145ms/step\n",
            "1/1 [==============================] - 0s 13ms/step\n",
            "1/1 [==============================] - 0s 11ms/step\n",
            "1/1 [==============================] - 0s 10ms/step\n",
            "1/1 [==============================] - 0s 10ms/step\n",
            "1/1 [==============================] - 0s 10ms/step\n",
            "1/1 [==============================] - 0s 115ms/step\n",
            "1/1 [==============================] - 0s 12ms/step\n",
            "1/1 [==============================] - 0s 10ms/step\n",
            "1/1 [==============================] - 0s 11ms/step\n",
            "1/1 [==============================] - 0s 10ms/step\n",
            "1/1 [==============================] - 0s 12ms/step\n",
            "1/1 [==============================] - 0s 120ms/step\n",
            "1/1 [==============================] - 0s 11ms/step\n",
            "1/1 [==============================] - 0s 11ms/step\n",
            "1/1 [==============================] - 0s 10ms/step\n",
            "1/1 [==============================] - 0s 11ms/step\n",
            "1/1 [==============================] - 0s 10ms/step\n",
            "1/1 [==============================] - 0s 127ms/step\n",
            "1/1 [==============================] - 0s 12ms/step\n",
            "1/1 [==============================] - 0s 11ms/step\n",
            "1/1 [==============================] - 0s 11ms/step\n",
            "1/1 [==============================] - 0s 10ms/step\n",
            "1/1 [==============================] - 0s 10ms/step\n",
            "1/1 [==============================] - 0s 166ms/step\n",
            "1/1 [==============================] - 0s 19ms/step\n",
            "1/1 [==============================] - 0s 13ms/step\n",
            "1/1 [==============================] - 0s 17ms/step\n",
            "1/1 [==============================] - 0s 12ms/step\n",
            "1/1 [==============================] - 0s 12ms/step\n",
            "1/1 [==============================] - 0s 137ms/step\n",
            "1/1 [==============================] - 0s 12ms/step\n",
            "1/1 [==============================] - 0s 11ms/step\n",
            "1/1 [==============================] - 0s 10ms/step\n",
            "1/1 [==============================] - 0s 10ms/step\n",
            "1/1 [==============================] - 0s 10ms/step\n",
            "1/1 [==============================] - 0s 127ms/step\n",
            "1/1 [==============================] - 0s 11ms/step\n",
            "1/1 [==============================] - 0s 11ms/step\n",
            "1/1 [==============================] - 0s 11ms/step\n",
            "1/1 [==============================] - 0s 11ms/step\n",
            "1/1 [==============================] - 0s 11ms/step\n",
            "1/1 [==============================] - 0s 191ms/step\n",
            "1/1 [==============================] - 0s 14ms/step\n",
            "1/1 [==============================] - 0s 12ms/step\n",
            "1/1 [==============================] - 0s 10ms/step\n",
            "1/1 [==============================] - 0s 10ms/step\n",
            "1/1 [==============================] - 0s 12ms/step\n",
            "1/1 [==============================] - 0s 121ms/step\n",
            "1/1 [==============================] - 0s 11ms/step\n",
            "1/1 [==============================] - 0s 11ms/step\n",
            "1/1 [==============================] - 0s 10ms/step\n",
            "1/1 [==============================] - 0s 10ms/step\n",
            "1/1 [==============================] - 0s 10ms/step\n",
            "1/1 [==============================] - 0s 127ms/step\n",
            "1/1 [==============================] - 0s 11ms/step\n",
            "1/1 [==============================] - 0s 10ms/step\n",
            "1/1 [==============================] - 0s 10ms/step\n",
            "1/1 [==============================] - 0s 11ms/step\n",
            "1/1 [==============================] - 0s 11ms/step\n",
            "1/1 [==============================] - 0s 125ms/step\n",
            "1/1 [==============================] - 0s 20ms/step\n",
            "1/1 [==============================] - 0s 10ms/step\n",
            "1/1 [==============================] - 0s 11ms/step\n",
            "1/1 [==============================] - 0s 12ms/step\n",
            "1/1 [==============================] - 0s 11ms/step\n",
            "1/1 [==============================] - 0s 124ms/step\n",
            "1/1 [==============================] - 0s 12ms/step\n",
            "1/1 [==============================] - 0s 13ms/step\n",
            "1/1 [==============================] - 0s 11ms/step\n",
            "1/1 [==============================] - 0s 11ms/step\n",
            "1/1 [==============================] - 0s 10ms/step\n",
            "1/1 [==============================] - 0s 124ms/step\n",
            "1/1 [==============================] - 0s 11ms/step\n",
            "1/1 [==============================] - 0s 11ms/step\n",
            "1/1 [==============================] - 0s 11ms/step\n",
            "1/1 [==============================] - 0s 11ms/step\n",
            "1/1 [==============================] - 0s 10ms/step\n",
            "1/1 [==============================] - 0s 116ms/step\n",
            "1/1 [==============================] - 0s 12ms/step\n",
            "1/1 [==============================] - 0s 11ms/step\n",
            "1/1 [==============================] - 0s 12ms/step\n",
            "1/1 [==============================] - 0s 10ms/step\n",
            "1/1 [==============================] - 0s 11ms/step\n",
            "1/1 [==============================] - 0s 140ms/step\n",
            "1/1 [==============================] - 0s 11ms/step\n",
            "1/1 [==============================] - 0s 10ms/step\n",
            "1/1 [==============================] - 0s 10ms/step\n",
            "1/1 [==============================] - 0s 11ms/step\n",
            "1/1 [==============================] - 0s 10ms/step\n",
            "1/1 [==============================] - 0s 160ms/step\n",
            "1/1 [==============================] - 0s 19ms/step\n",
            "1/1 [==============================] - 0s 12ms/step\n",
            "1/1 [==============================] - 0s 12ms/step\n",
            "1/1 [==============================] - 0s 14ms/step\n",
            "1/1 [==============================] - 0s 11ms/step\n",
            "1/1 [==============================] - 0s 119ms/step\n",
            "1/1 [==============================] - 0s 12ms/step\n",
            "1/1 [==============================] - 0s 10ms/step\n",
            "1/1 [==============================] - 0s 10ms/step\n",
            "1/1 [==============================] - 0s 10ms/step\n",
            "1/1 [==============================] - 0s 10ms/step\n",
            "1/1 [==============================] - 0s 146ms/step\n",
            "1/1 [==============================] - 0s 19ms/step\n",
            "1/1 [==============================] - 0s 11ms/step\n",
            "1/1 [==============================] - 0s 11ms/step\n",
            "1/1 [==============================] - 0s 10ms/step\n",
            "1/1 [==============================] - 0s 11ms/step\n",
            "1/1 [==============================] - 0s 131ms/step\n",
            "1/1 [==============================] - 0s 13ms/step\n",
            "1/1 [==============================] - 0s 10ms/step\n",
            "1/1 [==============================] - 0s 10ms/step\n",
            "1/1 [==============================] - 0s 10ms/step\n",
            "1/1 [==============================] - 0s 10ms/step\n",
            "1/1 [==============================] - 0s 123ms/step\n",
            "1/1 [==============================] - 0s 17ms/step\n",
            "1/1 [==============================] - 0s 13ms/step\n",
            "1/1 [==============================] - 0s 11ms/step\n",
            "1/1 [==============================] - 0s 11ms/step\n",
            "1/1 [==============================] - 0s 11ms/step\n",
            "1/1 [==============================] - 0s 130ms/step\n",
            "1/1 [==============================] - 0s 11ms/step\n",
            "1/1 [==============================] - 0s 10ms/step\n",
            "1/1 [==============================] - 0s 10ms/step\n",
            "1/1 [==============================] - 0s 13ms/step\n",
            "1/1 [==============================] - 0s 13ms/step\n",
            "1/1 [==============================] - 0s 137ms/step\n",
            "1/1 [==============================] - 0s 11ms/step\n",
            "1/1 [==============================] - 0s 10ms/step\n",
            "1/1 [==============================] - 0s 11ms/step\n",
            "1/1 [==============================] - 0s 10ms/step\n",
            "1/1 [==============================] - 0s 10ms/step\n",
            "1/1 [==============================] - 0s 118ms/step\n",
            "1/1 [==============================] - 0s 13ms/step\n",
            "1/1 [==============================] - 0s 11ms/step\n",
            "1/1 [==============================] - 0s 11ms/step\n",
            "1/1 [==============================] - 0s 10ms/step\n",
            "1/1 [==============================] - 0s 10ms/step\n",
            "1/1 [==============================] - 0s 122ms/step\n",
            "1/1 [==============================] - 0s 12ms/step\n",
            "1/1 [==============================] - 0s 11ms/step\n",
            "1/1 [==============================] - 0s 10ms/step\n",
            "1/1 [==============================] - 0s 12ms/step\n",
            "1/1 [==============================] - 0s 12ms/step\n",
            "1/1 [==============================] - 0s 132ms/step\n",
            "1/1 [==============================] - 0s 12ms/step\n",
            "1/1 [==============================] - 0s 10ms/step\n",
            "1/1 [==============================] - 0s 11ms/step\n",
            "1/1 [==============================] - 0s 12ms/step\n",
            "1/1 [==============================] - 0s 11ms/step\n",
            "1/1 [==============================] - 0s 142ms/step\n",
            "1/1 [==============================] - 0s 13ms/step\n",
            "1/1 [==============================] - 0s 17ms/step\n",
            "1/1 [==============================] - 0s 13ms/step\n",
            "1/1 [==============================] - 0s 11ms/step\n",
            "1/1 [==============================] - 0s 11ms/step\n",
            "1/1 [==============================] - 0s 190ms/step\n",
            "1/1 [==============================] - 0s 23ms/step\n",
            "1/1 [==============================] - 0s 17ms/step\n",
            "1/1 [==============================] - 0s 13ms/step\n",
            "1/1 [==============================] - 0s 25ms/step\n",
            "1/1 [==============================] - 0s 11ms/step\n",
            "1/1 [==============================] - 1s 1s/step\n",
            "1/1 [==============================] - 0s 13ms/step\n",
            "1/1 [==============================] - 0s 29ms/step\n",
            "1/1 [==============================] - 0s 14ms/step\n",
            "1/1 [==============================] - 0s 37ms/step\n",
            "1/1 [==============================] - 0s 61ms/step\n",
            "1/1 [==============================] - 0s 138ms/step\n",
            "1/1 [==============================] - 0s 11ms/step\n",
            "1/1 [==============================] - 0s 12ms/step\n",
            "1/1 [==============================] - 0s 14ms/step\n",
            "1/1 [==============================] - 0s 13ms/step\n",
            "1/1 [==============================] - 0s 12ms/step\n",
            "1/1 [==============================] - 0s 143ms/step\n",
            "1/1 [==============================] - 0s 11ms/step\n",
            "1/1 [==============================] - 0s 11ms/step\n",
            "1/1 [==============================] - 0s 11ms/step\n",
            "1/1 [==============================] - 0s 10ms/step\n",
            "1/1 [==============================] - 0s 10ms/step\n",
            "1/1 [==============================] - 0s 184ms/step\n",
            "1/1 [==============================] - 0s 11ms/step\n",
            "1/1 [==============================] - 0s 12ms/step\n",
            "1/1 [==============================] - 0s 12ms/step\n",
            "1/1 [==============================] - 0s 10ms/step\n",
            "1/1 [==============================] - 0s 11ms/step\n",
            "1/1 [==============================] - 0s 134ms/step\n",
            "1/1 [==============================] - 0s 12ms/step\n",
            "1/1 [==============================] - 0s 10ms/step\n",
            "1/1 [==============================] - 0s 10ms/step\n",
            "1/1 [==============================] - 0s 13ms/step\n",
            "1/1 [==============================] - 0s 11ms/step\n",
            "1/1 [==============================] - 0s 133ms/step\n",
            "1/1 [==============================] - 0s 12ms/step\n",
            "1/1 [==============================] - 0s 13ms/step\n",
            "1/1 [==============================] - 0s 15ms/step\n",
            "1/1 [==============================] - 0s 11ms/step\n",
            "1/1 [==============================] - 0s 12ms/step\n",
            "1/1 [==============================] - 0s 119ms/step\n",
            "1/1 [==============================] - 0s 14ms/step\n",
            "1/1 [==============================] - 0s 15ms/step\n",
            "1/1 [==============================] - 0s 12ms/step\n",
            "1/1 [==============================] - 0s 11ms/step\n",
            "1/1 [==============================] - 0s 11ms/step\n",
            "1/1 [==============================] - 0s 219ms/step\n",
            "1/1 [==============================] - 0s 17ms/step\n",
            "1/1 [==============================] - 0s 13ms/step\n",
            "1/1 [==============================] - 0s 12ms/step\n",
            "1/1 [==============================] - 0s 18ms/step\n",
            "1/1 [==============================] - 0s 12ms/step\n",
            "1/1 [==============================] - 0s 126ms/step\n",
            "1/1 [==============================] - 0s 14ms/step\n",
            "1/1 [==============================] - 0s 10ms/step\n",
            "1/1 [==============================] - 0s 11ms/step\n",
            "1/1 [==============================] - 0s 11ms/step\n",
            "1/1 [==============================] - 0s 11ms/step\n",
            "1/1 [==============================] - 0s 125ms/step\n",
            "1/1 [==============================] - 0s 12ms/step\n",
            "1/1 [==============================] - 0s 15ms/step\n",
            "1/1 [==============================] - 0s 13ms/step\n",
            "1/1 [==============================] - 0s 12ms/step\n",
            "1/1 [==============================] - 0s 11ms/step\n",
            "1/1 [==============================] - 0s 209ms/step\n",
            "1/1 [==============================] - 0s 12ms/step\n",
            "1/1 [==============================] - 0s 13ms/step\n",
            "1/1 [==============================] - 0s 14ms/step\n",
            "1/1 [==============================] - 0s 11ms/step\n",
            "1/1 [==============================] - 0s 11ms/step\n",
            "1/1 [==============================] - 0s 118ms/step\n",
            "1/1 [==============================] - 0s 12ms/step\n",
            "1/1 [==============================] - 0s 11ms/step\n",
            "1/1 [==============================] - 0s 11ms/step\n",
            "1/1 [==============================] - 0s 12ms/step\n",
            "1/1 [==============================] - 0s 11ms/step\n",
            "1/1 [==============================] - 0s 116ms/step\n",
            "1/1 [==============================] - 0s 13ms/step\n",
            "1/1 [==============================] - 0s 12ms/step\n",
            "1/1 [==============================] - 0s 11ms/step\n",
            "1/1 [==============================] - 0s 11ms/step\n",
            "1/1 [==============================] - 0s 11ms/step\n",
            "1/1 [==============================] - 0s 136ms/step\n",
            "1/1 [==============================] - 0s 21ms/step\n",
            "1/1 [==============================] - 0s 26ms/step\n",
            "1/1 [==============================] - 0s 15ms/step\n",
            "1/1 [==============================] - 0s 16ms/step\n",
            "1/1 [==============================] - 0s 12ms/step\n",
            "1/1 [==============================] - 0s 134ms/step\n",
            "1/1 [==============================] - 0s 15ms/step\n",
            "1/1 [==============================] - 0s 11ms/step\n",
            "1/1 [==============================] - 0s 12ms/step\n",
            "1/1 [==============================] - 0s 12ms/step\n",
            "1/1 [==============================] - 0s 14ms/step\n",
            "1/1 [==============================] - 0s 119ms/step\n",
            "1/1 [==============================] - 0s 11ms/step\n",
            "1/1 [==============================] - 0s 19ms/step\n",
            "1/1 [==============================] - 0s 16ms/step\n",
            "1/1 [==============================] - 0s 11ms/step\n",
            "1/1 [==============================] - 0s 10ms/step\n",
            "1/1 [==============================] - 0s 125ms/step\n",
            "1/1 [==============================] - 0s 13ms/step\n",
            "1/1 [==============================] - 0s 11ms/step\n",
            "1/1 [==============================] - 0s 10ms/step\n",
            "1/1 [==============================] - 0s 11ms/step\n",
            "1/1 [==============================] - 0s 13ms/step\n",
            "1/1 [==============================] - 0s 129ms/step\n",
            "1/1 [==============================] - 0s 12ms/step\n",
            "1/1 [==============================] - 0s 18ms/step\n",
            "1/1 [==============================] - 0s 12ms/step\n",
            "1/1 [==============================] - 0s 11ms/step\n",
            "1/1 [==============================] - 0s 11ms/step\n",
            "1/1 [==============================] - 0s 127ms/step\n",
            "1/1 [==============================] - 0s 13ms/step\n",
            "1/1 [==============================] - 0s 12ms/step\n",
            "1/1 [==============================] - 0s 11ms/step\n",
            "1/1 [==============================] - 0s 12ms/step\n",
            "1/1 [==============================] - 0s 11ms/step\n",
            "1/1 [==============================] - 0s 137ms/step\n",
            "1/1 [==============================] - 0s 12ms/step\n",
            "1/1 [==============================] - 0s 13ms/step\n",
            "1/1 [==============================] - 0s 12ms/step\n",
            "1/1 [==============================] - 0s 10ms/step\n",
            "1/1 [==============================] - 0s 11ms/step\n",
            "1/1 [==============================] - 0s 118ms/step\n",
            "1/1 [==============================] - 0s 11ms/step\n",
            "1/1 [==============================] - 0s 10ms/step\n",
            "1/1 [==============================] - 0s 10ms/step\n",
            "1/1 [==============================] - 0s 11ms/step\n",
            "1/1 [==============================] - 0s 12ms/step\n",
            "1/1 [==============================] - 0s 157ms/step\n",
            "1/1 [==============================] - 0s 16ms/step\n",
            "1/1 [==============================] - 0s 14ms/step\n",
            "1/1 [==============================] - 0s 14ms/step\n",
            "1/1 [==============================] - 0s 12ms/step\n",
            "1/1 [==============================] - 0s 14ms/step\n",
            "1/1 [==============================] - 0s 123ms/step\n",
            "1/1 [==============================] - 0s 12ms/step\n",
            "1/1 [==============================] - 0s 12ms/step\n",
            "1/1 [==============================] - 0s 12ms/step\n",
            "1/1 [==============================] - 0s 12ms/step\n",
            "1/1 [==============================] - 0s 11ms/step\n",
            "1/1 [==============================] - 0s 161ms/step\n",
            "1/1 [==============================] - 0s 14ms/step\n",
            "1/1 [==============================] - 0s 13ms/step\n",
            "1/1 [==============================] - 0s 14ms/step\n",
            "1/1 [==============================] - 0s 13ms/step\n",
            "1/1 [==============================] - 0s 12ms/step\n",
            "1/1 [==============================] - 0s 121ms/step\n",
            "1/1 [==============================] - 0s 13ms/step\n",
            "1/1 [==============================] - 0s 12ms/step\n",
            "1/1 [==============================] - 0s 12ms/step\n",
            "1/1 [==============================] - 0s 11ms/step\n",
            "1/1 [==============================] - 0s 10ms/step\n",
            "1/1 [==============================] - 0s 116ms/step\n",
            "1/1 [==============================] - 0s 13ms/step\n",
            "1/1 [==============================] - 0s 11ms/step\n",
            "1/1 [==============================] - 0s 12ms/step\n",
            "1/1 [==============================] - 0s 11ms/step\n",
            "1/1 [==============================] - 0s 11ms/step\n",
            "1/1 [==============================] - 0s 129ms/step\n",
            "1/1 [==============================] - 0s 15ms/step\n",
            "1/1 [==============================] - 0s 11ms/step\n",
            "1/1 [==============================] - 0s 12ms/step\n",
            "1/1 [==============================] - 0s 24ms/step\n",
            "1/1 [==============================] - 0s 14ms/step\n",
            "1/1 [==============================] - 0s 143ms/step\n",
            "1/1 [==============================] - 0s 12ms/step\n",
            "1/1 [==============================] - 0s 16ms/step\n",
            "1/1 [==============================] - 0s 12ms/step\n",
            "1/1 [==============================] - 0s 11ms/step\n",
            "1/1 [==============================] - 0s 12ms/step\n",
            "1/1 [==============================] - 0s 118ms/step\n",
            "1/1 [==============================] - 0s 12ms/step\n",
            "1/1 [==============================] - 0s 14ms/step\n",
            "1/1 [==============================] - 0s 13ms/step\n",
            "1/1 [==============================] - 0s 11ms/step\n",
            "1/1 [==============================] - 0s 10ms/step\n",
            "1/1 [==============================] - 0s 124ms/step\n",
            "1/1 [==============================] - 0s 12ms/step\n",
            "1/1 [==============================] - 0s 11ms/step\n",
            "1/1 [==============================] - 0s 10ms/step\n",
            "1/1 [==============================] - 0s 12ms/step\n",
            "1/1 [==============================] - 0s 11ms/step\n",
            "1/1 [==============================] - 0s 126ms/step\n",
            "1/1 [==============================] - 0s 15ms/step\n",
            "1/1 [==============================] - 0s 31ms/step\n",
            "1/1 [==============================] - 0s 13ms/step\n",
            "1/1 [==============================] - 0s 16ms/step\n",
            "1/1 [==============================] - 0s 15ms/step\n",
            "1/1 [==============================] - 0s 137ms/step\n",
            "1/1 [==============================] - 0s 12ms/step\n",
            "1/1 [==============================] - 0s 12ms/step\n",
            "1/1 [==============================] - 0s 12ms/step\n",
            "1/1 [==============================] - 0s 12ms/step\n",
            "1/1 [==============================] - 0s 11ms/step\n",
            "1/1 [==============================] - 0s 128ms/step\n",
            "1/1 [==============================] - 0s 12ms/step\n",
            "1/1 [==============================] - 0s 11ms/step\n",
            "1/1 [==============================] - 0s 11ms/step\n",
            "1/1 [==============================] - 0s 11ms/step\n",
            "1/1 [==============================] - 0s 13ms/step\n",
            "1/1 [==============================] - 0s 116ms/step\n",
            "1/1 [==============================] - 0s 14ms/step\n",
            "1/1 [==============================] - 0s 11ms/step\n",
            "1/1 [==============================] - 0s 11ms/step\n",
            "1/1 [==============================] - 0s 12ms/step\n",
            "1/1 [==============================] - 0s 11ms/step\n",
            "1/1 [==============================] - 0s 129ms/step\n",
            "1/1 [==============================] - 0s 12ms/step\n",
            "1/1 [==============================] - 0s 20ms/step\n",
            "1/1 [==============================] - 0s 11ms/step\n",
            "1/1 [==============================] - 0s 12ms/step\n",
            "1/1 [==============================] - 0s 11ms/step\n",
            "1/1 [==============================] - 0s 130ms/step\n",
            "1/1 [==============================] - 0s 12ms/step\n",
            "1/1 [==============================] - 0s 13ms/step\n",
            "1/1 [==============================] - 0s 12ms/step\n",
            "1/1 [==============================] - 0s 14ms/step\n",
            "1/1 [==============================] - 0s 12ms/step\n",
            "1/1 [==============================] - 0s 130ms/step\n",
            "1/1 [==============================] - 0s 12ms/step\n",
            "1/1 [==============================] - 0s 12ms/step\n",
            "1/1 [==============================] - 0s 11ms/step\n",
            "1/1 [==============================] - 0s 10ms/step\n",
            "1/1 [==============================] - 0s 18ms/step\n",
            "1/1 [==============================] - 0s 124ms/step\n",
            "1/1 [==============================] - 0s 12ms/step\n",
            "1/1 [==============================] - 0s 11ms/step\n",
            "1/1 [==============================] - 0s 11ms/step\n",
            "1/1 [==============================] - 0s 11ms/step\n",
            "1/1 [==============================] - 0s 10ms/step\n",
            "1/1 [==============================] - 0s 126ms/step\n",
            "1/1 [==============================] - 0s 13ms/step\n",
            "1/1 [==============================] - 0s 11ms/step\n",
            "1/1 [==============================] - 0s 11ms/step\n",
            "1/1 [==============================] - 0s 11ms/step\n",
            "1/1 [==============================] - 0s 11ms/step\n",
            "1/1 [==============================] - 0s 140ms/step\n",
            "1/1 [==============================] - 0s 13ms/step\n",
            "1/1 [==============================] - 0s 11ms/step\n",
            "1/1 [==============================] - 0s 11ms/step\n",
            "1/1 [==============================] - 0s 12ms/step\n",
            "1/1 [==============================] - 0s 11ms/step\n",
            "1/1 [==============================] - 0s 134ms/step\n",
            "1/1 [==============================] - 0s 14ms/step\n",
            "1/1 [==============================] - 0s 14ms/step\n",
            "1/1 [==============================] - 0s 16ms/step\n",
            "1/1 [==============================] - 0s 12ms/step\n",
            "1/1 [==============================] - 0s 21ms/step\n",
            "1/1 [==============================] - 0s 121ms/step\n",
            "1/1 [==============================] - 0s 11ms/step\n",
            "1/1 [==============================] - 0s 13ms/step\n",
            "1/1 [==============================] - 0s 10ms/step\n",
            "1/1 [==============================] - 0s 10ms/step\n",
            "1/1 [==============================] - 0s 10ms/step\n",
            "1/1 [==============================] - 0s 172ms/step\n",
            "1/1 [==============================] - 0s 15ms/step\n",
            "1/1 [==============================] - 0s 11ms/step\n",
            "1/1 [==============================] - 0s 12ms/step\n",
            "1/1 [==============================] - 0s 11ms/step\n",
            "1/1 [==============================] - 0s 11ms/step\n",
            "1/1 [==============================] - 0s 149ms/step\n",
            "1/1 [==============================] - 0s 15ms/step\n",
            "1/1 [==============================] - 0s 15ms/step\n",
            "1/1 [==============================] - 0s 12ms/step\n",
            "1/1 [==============================] - 0s 11ms/step\n",
            "1/1 [==============================] - 0s 11ms/step\n",
            "1/1 [==============================] - 0s 128ms/step\n",
            "1/1 [==============================] - 0s 12ms/step\n",
            "1/1 [==============================] - 0s 13ms/step\n",
            "1/1 [==============================] - 0s 11ms/step\n",
            "1/1 [==============================] - 0s 12ms/step\n",
            "1/1 [==============================] - 0s 10ms/step\n",
            "1/1 [==============================] - 0s 162ms/step\n",
            "1/1 [==============================] - 0s 16ms/step\n",
            "1/1 [==============================] - 0s 11ms/step\n",
            "1/1 [==============================] - 0s 11ms/step\n",
            "1/1 [==============================] - 0s 11ms/step\n",
            "1/1 [==============================] - 0s 11ms/step\n",
            "1/1 [==============================] - 0s 143ms/step\n",
            "1/1 [==============================] - 0s 22ms/step\n",
            "1/1 [==============================] - 0s 12ms/step\n",
            "1/1 [==============================] - 0s 15ms/step\n",
            "1/1 [==============================] - 0s 11ms/step\n",
            "1/1 [==============================] - 0s 11ms/step\n",
            "1/1 [==============================] - 0s 123ms/step\n",
            "1/1 [==============================] - 0s 14ms/step\n",
            "1/1 [==============================] - 0s 17ms/step\n",
            "1/1 [==============================] - 0s 16ms/step\n",
            "1/1 [==============================] - 0s 11ms/step\n",
            "1/1 [==============================] - 0s 12ms/step\n",
            "1/1 [==============================] - 0s 161ms/step\n",
            "1/1 [==============================] - 0s 22ms/step\n",
            "1/1 [==============================] - 0s 13ms/step\n",
            "1/1 [==============================] - 0s 12ms/step\n",
            "1/1 [==============================] - 0s 25ms/step\n",
            "1/1 [==============================] - 0s 11ms/step\n",
            "1/1 [==============================] - 0s 143ms/step\n",
            "1/1 [==============================] - 0s 11ms/step\n",
            "1/1 [==============================] - 0s 18ms/step\n",
            "1/1 [==============================] - 0s 11ms/step\n",
            "1/1 [==============================] - 0s 10ms/step\n",
            "1/1 [==============================] - 0s 11ms/step\n",
            "1/1 [==============================] - 0s 125ms/step\n",
            "1/1 [==============================] - 0s 12ms/step\n",
            "1/1 [==============================] - 0s 12ms/step\n",
            "1/1 [==============================] - 0s 10ms/step\n",
            "1/1 [==============================] - 0s 12ms/step\n",
            "1/1 [==============================] - 0s 13ms/step\n",
            "1/1 [==============================] - 0s 194ms/step\n",
            "1/1 [==============================] - 0s 13ms/step\n",
            "1/1 [==============================] - 0s 10ms/step\n",
            "1/1 [==============================] - 0s 11ms/step\n",
            "1/1 [==============================] - 0s 11ms/step\n",
            "1/1 [==============================] - 0s 11ms/step\n",
            "1/1 [==============================] - 0s 132ms/step\n",
            "1/1 [==============================] - 0s 14ms/step\n",
            "1/1 [==============================] - 0s 12ms/step\n",
            "1/1 [==============================] - 0s 13ms/step\n",
            "1/1 [==============================] - 0s 11ms/step\n",
            "1/1 [==============================] - 0s 12ms/step\n"
          ]
        }
      ],
      "source": [
        "predictions = {}\n",
        "for country in countries:\n",
        "    country_data = ladder_data.loc[ladder_data['Country name']==country]\n",
        "    X = country_data['Life Ladder'].values.reshape(-1, 1)\n",
        "    \n",
        "    X_train, X_test = train_test_split(X, test_size=0.2, random_state=42)\n",
        "    \n",
        "    model = Sequential()\n",
        "    model.add(LSTM(50, activation='relu', return_sequences=True, input_shape=(1, 1)))\n",
        "    model.add(Dropout(0.2))\n",
        "    model.add(LSTM(50, activation='relu'))\n",
        "    model.add(Dropout(0.2))\n",
        "    model.add(Dense(1))\n",
        "    model.compile(optimizer='adam', loss='mse')\n",
        "    model.fit(X_train, X_train, epochs=100, verbose=0)\n",
        "    \n",
        "    lstm_preds = model.predict(X_test)\n",
        "    \n",
        "    regressor = LinearRegression()\n",
        "    regressor.fit(lstm_preds, X_test)\n",
        "    \n",
        "    last_ladder = X[-1]\n",
        "    forecast = []\n",
        "    for _ in range(5):\n",
        "        lstm_preds = model.predict(last_ladder.reshape(-1, 1))\n",
        "        prediction = regressor.predict(lstm_preds)\n",
        "        forecast.append(prediction[0,0])\n",
        "        last_ladder = prediction\n",
        "    \n",
        "    predictions[country] = forecast"
      ]
    },
    {
      "cell_type": "markdown",
      "metadata": {
        "id": "MSId2c40g5Ru"
      },
      "source": [
        "##3(c) Linear Regression (for other features)"
      ]
    },
    {
      "cell_type": "code",
      "execution_count": 36,
      "metadata": {
        "id": "ihWQ8HOOQrny"
      },
      "outputs": [],
      "source": [
        "for country, forecast in predictions.items():\n",
        "    predicted = pd.DataFrame({'Year': range(2024, 2029), 'Life Ladder': forecast})\n",
        "    \n",
        "    X_pred = predicted['Year'].values.reshape(-1, 1)\n",
        "    y_pred = predicted['Life Ladder'].values.reshape(-1, 1)\n",
        "    \n",
        "    regressor = LinearRegression()\n",
        "    regressor.fit(X_pred, y_pred)\n",
        "    \n",
        "    years = np.array(range(2024, 2029)).reshape(-1, 1)\n",
        "    lr_preds = regressor.predict(years)"
      ]
    },
    {
      "cell_type": "code",
      "execution_count": 37,
      "metadata": {},
      "outputs": [
        {
          "data": {
            "application/vnd.plotly.v1+json": {
              "config": {
                "plotlyServerURL": "https://plot.ly"
              },
              "data": [
                {
                  "mode": "lines+markers",
                  "name": "Bulgaria",
                  "type": "scatter",
                  "x": [
                    2024,
                    2025,
                    2026,
                    2027,
                    2028
                  ],
                  "y": [
                    0.7268030643463135,
                    1.752659559249878,
                    3.6241819858551025,
                    8.337323188781738,
                    30.027372360229492
                  ]
                },
                {
                  "mode": "lines+markers",
                  "name": "Vietnam",
                  "type": "scatter",
                  "x": [
                    2024,
                    2025,
                    2026,
                    2027,
                    2028
                  ],
                  "y": [
                    0.9422241449356079,
                    1.1927064657211304,
                    1.5457613468170166,
                    2.1103758811950684,
                    3.1952264308929443
                  ]
                },
                {
                  "mode": "lines+markers",
                  "name": "South Africa",
                  "type": "scatter",
                  "x": [
                    2024,
                    2025,
                    2026,
                    2027,
                    2028
                  ],
                  "y": [
                    -0.3255040645599365,
                    -0.23759138584136963,
                    -0.0286787748336792,
                    0.456787645816803,
                    1.123947024345398
                  ]
                },
                {
                  "mode": "lines+markers",
                  "name": "Mexico",
                  "type": "scatter",
                  "x": [
                    2024,
                    2025,
                    2026,
                    2027,
                    2028
                  ],
                  "y": [
                    1.4005579948425293,
                    1.4590327739715576,
                    1.5324175357818604,
                    1.627027988433838,
                    1.75321626663208
                  ]
                },
                {
                  "mode": "lines+markers",
                  "name": "Malaysia",
                  "type": "scatter",
                  "x": [
                    2024,
                    2025,
                    2026,
                    2027,
                    2028
                  ],
                  "y": [
                    0.3878284692764282,
                    0.44485557079315186,
                    0.5169211626052856,
                    0.6106839179992676,
                    0.7373059988021851
                  ]
                },
                {
                  "mode": "lines+markers",
                  "name": "Kosovo",
                  "type": "scatter",
                  "x": [
                    2024,
                    2025,
                    2026,
                    2027,
                    2028
                  ],
                  "y": [
                    1.2847906351089478,
                    1.3412456512451172,
                    1.412826418876648,
                    1.506335735321045,
                    1.6332488059997559
                  ]
                },
                {
                  "mode": "lines+markers",
                  "name": "Poland",
                  "type": "scatter",
                  "x": [
                    2024,
                    2025,
                    2026,
                    2027,
                    2028
                  ],
                  "y": [
                    1.1103291511535645,
                    1.1618037223815918,
                    1.2250688076019287,
                    1.3045737743377686,
                    1.4072754383087158
                  ]
                },
                {
                  "mode": "lines+markers",
                  "name": "Saudi Arabia",
                  "type": "scatter",
                  "x": [
                    2024,
                    2025,
                    2026,
                    2027,
                    2028
                  ],
                  "y": [
                    1.3428269624710083,
                    1.3867579698562622,
                    1.4397107362747192,
                    1.5046790838241577,
                    1.5861164331436157
                  ]
                },
                {
                  "mode": "lines+markers",
                  "name": "Argentina",
                  "type": "scatter",
                  "x": [
                    2024,
                    2025,
                    2026,
                    2027,
                    2028
                  ],
                  "y": [
                    0.8420578241348267,
                    0.882728099822998,
                    0.9323430061340332,
                    0.9940487146377563,
                    1.0726304054260254
                  ]
                },
                {
                  "mode": "lines+markers",
                  "name": "Croatia",
                  "type": "scatter",
                  "x": [
                    2024,
                    2025,
                    2026,
                    2027,
                    2028
                  ],
                  "y": [
                    0.4481438398361206,
                    0.47921931743621826,
                    0.5160930156707764,
                    0.5605189800262451,
                    0.6150277853012085
                  ]
                },
                {
                  "mode": "lines+markers",
                  "name": "Ecuador",
                  "type": "scatter",
                  "x": [
                    2024,
                    2025,
                    2026,
                    2027,
                    2028
                  ],
                  "y": [
                    0.3613123893737793,
                    0.42124301195144653,
                    0.466744601726532,
                    0.49842405319213867,
                    0.5203255414962769
                  ]
                },
                {
                  "mode": "lines+markers",
                  "name": "Romania",
                  "type": "scatter",
                  "x": [
                    2024,
                    2025,
                    2026,
                    2027,
                    2028
                  ],
                  "y": [
                    0.9186456203460693,
                    0.9481465816497803,
                    0.9832106828689575,
                    1.0255405902862549,
                    1.0776013135910034
                  ]
                },
                {
                  "mode": "lines+markers",
                  "name": "Austria",
                  "type": "scatter",
                  "x": [
                    2024,
                    2025,
                    2026,
                    2027,
                    2028
                  ],
                  "y": [
                    1.089993953704834,
                    1.1418826580047607,
                    1.1838445663452148,
                    1.2184903621673584,
                    1.2475812435150146
                  ]
                },
                {
                  "mode": "lines+markers",
                  "name": "Estonia",
                  "type": "scatter",
                  "x": [
                    2024,
                    2025,
                    2026,
                    2027,
                    2028
                  ],
                  "y": [
                    0.8656224012374878,
                    0.8941287994384766,
                    0.9276001453399658,
                    0.9674317836761475,
                    1.0155889987945557
                  ]
                },
                {
                  "mode": "lines+markers",
                  "name": "Switzerland",
                  "type": "scatter",
                  "x": [
                    2024,
                    2025,
                    2026,
                    2027,
                    2028
                  ],
                  "y": [
                    1.3786817789077759,
                    1.4257287979125977,
                    1.4643372297286987,
                    1.4965989589691162,
                    1.5239613056182861
                  ]
                },
                {
                  "mode": "lines+markers",
                  "name": "Lithuania",
                  "type": "scatter",
                  "x": [
                    2024,
                    2025,
                    2026,
                    2027,
                    2028
                  ],
                  "y": [
                    0.9732804894447327,
                    1.0000224113464355,
                    1.031585693359375,
                    1.069331169128418,
                    1.1151750087738037
                  ]
                },
                {
                  "mode": "lines+markers",
                  "name": "Nicaragua",
                  "type": "scatter",
                  "x": [
                    2024,
                    2025,
                    2026,
                    2027,
                    2028
                  ],
                  "y": [
                    0.8033051490783691,
                    0.829538106918335,
                    0.8601881265640259,
                    0.8964031934738159,
                    0.9397616386413574
                  ]
                },
                {
                  "mode": "lines+markers",
                  "name": "Kyrgyzstan",
                  "type": "scatter",
                  "x": [
                    2024,
                    2025,
                    2026,
                    2027,
                    2028
                  ],
                  "y": [
                    0.39963817596435547,
                    0.42340874671936035,
                    0.4509488344192505,
                    0.4831509590148926,
                    0.5212081670761108
                  ]
                },
                {
                  "mode": "lines+markers",
                  "name": "Latvia",
                  "type": "scatter",
                  "x": [
                    2024,
                    2025,
                    2026,
                    2027,
                    2028
                  ],
                  "y": [
                    0.7423751354217529,
                    0.7655212879180908,
                    0.7920095920562744,
                    0.822608232498169,
                    0.8583362102508545
                  ]
                },
                {
                  "mode": "lines+markers",
                  "name": "United Kingdom",
                  "type": "scatter",
                  "x": [
                    2024,
                    2025,
                    2026,
                    2027,
                    2028
                  ],
                  "y": [
                    1.0869390964508057,
                    1.12282395362854,
                    1.1530892848968506,
                    1.1789700984954834,
                    1.2013622522354126
                  ]
                },
                {
                  "mode": "lines+markers",
                  "name": "Malta",
                  "type": "scatter",
                  "x": [
                    2024,
                    2025,
                    2026,
                    2027,
                    2028
                  ],
                  "y": [
                    0.7599819898605347,
                    0.7926168441772461,
                    0.8203964233398438,
                    0.8443282842636108,
                    0.865157961845398
                  ]
                },
                {
                  "mode": "lines+markers",
                  "name": "Costa Rica",
                  "type": "scatter",
                  "x": [
                    2024,
                    2025,
                    2026,
                    2027,
                    2028
                  ],
                  "y": [
                    1.706554889678955,
                    1.7267390489578247,
                    1.749943494796753,
                    1.7768784761428833,
                    1.8084919452667236
                  ]
                },
                {
                  "mode": "lines+markers",
                  "name": "Serbia",
                  "type": "scatter",
                  "x": [
                    2024,
                    2025,
                    2026,
                    2027,
                    2028
                  ],
                  "y": [
                    0.8683684468269348,
                    0.8884201645851135,
                    0.9115346074104309,
                    0.938417375087738,
                    0.9700061678886414
                  ]
                },
                {
                  "mode": "lines+markers",
                  "name": "Senegal",
                  "type": "scatter",
                  "x": [
                    2024,
                    2025,
                    2026,
                    2027,
                    2028
                  ],
                  "y": [
                    -0.32534074783325195,
                    -0.3034629821777344,
                    -0.2816528081893921,
                    -0.2601125240325928,
                    -0.239035964012146
                  ]
                },
                {
                  "mode": "lines+markers",
                  "name": "Russia",
                  "type": "scatter",
                  "x": [
                    2024,
                    2025,
                    2026,
                    2027,
                    2028
                  ],
                  "y": [
                    0.3546290695667267,
                    0.37178924679756165,
                    0.3906722366809845,
                    0.41154900193214417,
                    0.4347507655620575
                  ]
                },
                {
                  "mode": "lines+markers",
                  "name": "Zambia",
                  "type": "scatter",
                  "x": [
                    2024,
                    2025,
                    2026,
                    2027,
                    2028
                  ],
                  "y": [
                    -1.5770951509475708,
                    -1.5569539070129395,
                    -1.537163496017456,
                    -1.517867088317871,
                    -1.4991941452026367
                  ]
                },
                {
                  "mode": "lines+markers",
                  "name": "United States",
                  "type": "scatter",
                  "x": [
                    2024,
                    2025,
                    2026,
                    2027,
                    2028
                  ],
                  "y": [
                    0.9458669424057007,
                    0.9666633605957031,
                    0.9849042892456055,
                    1.001036286354065,
                    1.0154072046279907
                  ]
                },
                {
                  "mode": "lines+markers",
                  "name": "Thailand",
                  "type": "scatter",
                  "x": [
                    2024,
                    2025,
                    2026,
                    2027,
                    2028
                  ],
                  "y": [
                    0.7222034931182861,
                    0.7362879514694214,
                    0.7520453929901123,
                    0.7697893381118774,
                    0.7899167537689209
                  ]
                },
                {
                  "mode": "lines+markers",
                  "name": "Pakistan",
                  "type": "scatter",
                  "x": [
                    2024,
                    2025,
                    2026,
                    2027,
                    2028
                  ],
                  "y": [
                    -0.8179776668548584,
                    -0.8040025234222412,
                    -0.788489580154419,
                    -0.7713472843170166,
                    -0.7524998188018799
                  ]
                },
                {
                  "mode": "lines+markers",
                  "name": "Uganda",
                  "type": "scatter",
                  "x": [
                    2024,
                    2025,
                    2026,
                    2027,
                    2028
                  ],
                  "y": [
                    -0.8922604322433472,
                    -0.8805028200149536,
                    -0.8681336641311646,
                    -0.8551830053329468,
                    -0.8416906595230103
                  ]
                },
                {
                  "mode": "lines+markers",
                  "name": "Canada",
                  "type": "scatter",
                  "x": [
                    2024,
                    2025,
                    2026,
                    2027,
                    2028
                  ],
                  "y": [
                    1.22100830078125,
                    1.2341415882110596,
                    1.2459436655044556,
                    1.2566078901290894,
                    1.2662919759750366
                  ]
                },
                {
                  "mode": "lines+markers",
                  "name": "New Zealand",
                  "type": "scatter",
                  "x": [
                    2024,
                    2025,
                    2026,
                    2027,
                    2028
                  ],
                  "y": [
                    1.3407455682754517,
                    1.3536511659622192,
                    1.3652284145355225,
                    1.3756688833236694,
                    1.3851287364959717
                  ]
                },
                {
                  "mode": "lines+markers",
                  "name": "Dominican Republic",
                  "type": "scatter",
                  "x": [
                    2024,
                    2025,
                    2026,
                    2027,
                    2028
                  ],
                  "y": [
                    0.4001615345478058,
                    0.412174254655838,
                    0.42399314045906067,
                    0.4335006773471832,
                    0.4408160150051117
                  ]
                },
                {
                  "mode": "lines+markers",
                  "name": "Germany",
                  "type": "scatter",
                  "x": [
                    2024,
                    2025,
                    2026,
                    2027,
                    2028
                  ],
                  "y": [
                    1.1757656335830688,
                    1.1874550580978394,
                    1.1980186700820923,
                    1.2076112031936646,
                    1.2163609266281128
                  ]
                },
                {
                  "mode": "lines+markers",
                  "name": "Brazil",
                  "type": "scatter",
                  "x": [
                    2024,
                    2025,
                    2026,
                    2027,
                    2028
                  ],
                  "y": [
                    0.957505464553833,
                    0.9653817415237427,
                    0.9741050004959106,
                    0.9838038682937622,
                    0.9946334362030029
                  ]
                },
                {
                  "mode": "lines+markers",
                  "name": "Israel",
                  "type": "scatter",
                  "x": [
                    2024,
                    2025,
                    2026,
                    2027,
                    2028
                  ],
                  "y": [
                    1.1672383546829224,
                    1.1782236099243164,
                    1.187945008277893,
                    1.1965855360031128,
                    1.2042957544326782
                  ]
                },
                {
                  "mode": "lines+markers",
                  "name": "South Korea",
                  "type": "scatter",
                  "x": [
                    2024,
                    2025,
                    2026,
                    2027,
                    2028
                  ],
                  "y": [
                    0.566104531288147,
                    0.5743129253387451,
                    0.5831575393676758,
                    0.5927150249481201,
                    0.6030738353729248
                  ]
                },
                {
                  "mode": "lines+markers",
                  "name": "Uzbekistan",
                  "type": "scatter",
                  "x": [
                    2024,
                    2025,
                    2026,
                    2027,
                    2028
                  ],
                  "y": [
                    0.8083999156951904,
                    0.8163423538208008,
                    0.8249809741973877,
                    0.8344097137451172,
                    0.8447412252426147
                  ]
                },
                {
                  "mode": "lines+markers",
                  "name": "Philippines",
                  "type": "scatter",
                  "x": [
                    2024,
                    2025,
                    2026,
                    2027,
                    2028
                  ],
                  "y": [
                    0.6378374099731445,
                    0.6499030590057373,
                    0.6594188213348389,
                    0.666956901550293,
                    0.6729496717453003
                  ]
                },
                {
                  "mode": "lines+markers",
                  "name": "Slovenia",
                  "type": "scatter",
                  "x": [
                    2024,
                    2025,
                    2026,
                    2027,
                    2028
                  ],
                  "y": [
                    1.128470540046692,
                    1.135775089263916,
                    1.1438945531845093,
                    1.1529473066329956,
                    1.1630744934082031
                  ]
                },
                {
                  "mode": "lines+markers",
                  "name": "Ireland",
                  "type": "scatter",
                  "x": [
                    2024,
                    2025,
                    2026,
                    2027,
                    2028
                  ],
                  "y": [
                    1.195921540260315,
                    1.2056671380996704,
                    1.2143865823745728,
                    1.2222208976745605,
                    1.2292871475219727
                  ]
                },
                {
                  "mode": "lines+markers",
                  "name": "Peru",
                  "type": "scatter",
                  "x": [
                    2024,
                    2025,
                    2026,
                    2027,
                    2028
                  ],
                  "y": [
                    0.42174991965293884,
                    0.4367257058620453,
                    0.4463358223438263,
                    0.45171239972114563,
                    0.4546911418437958
                  ]
                },
                {
                  "mode": "lines+markers",
                  "name": "Tunisia",
                  "type": "scatter",
                  "x": [
                    2024,
                    2025,
                    2026,
                    2027,
                    2028
                  ],
                  "y": [
                    -0.8617225885391235,
                    -0.8537769317626953,
                    -0.8458080291748047,
                    -0.8378441333770752,
                    -0.8299129009246826
                  ]
                },
                {
                  "mode": "lines+markers",
                  "name": "Italy",
                  "type": "scatter",
                  "x": [
                    2024,
                    2025,
                    2026,
                    2027,
                    2028
                  ],
                  "y": [
                    0.68608558177948,
                    0.6946730613708496,
                    0.7025293111801147,
                    0.7097436189651489,
                    0.7163913249969482
                  ]
                },
                {
                  "mode": "lines+markers",
                  "name": "Sweden",
                  "type": "scatter",
                  "x": [
                    2024,
                    2025,
                    2026,
                    2027,
                    2028
                  ],
                  "y": [
                    1.4990918636322021,
                    1.506818413734436,
                    1.5139387845993042,
                    1.520521879196167,
                    1.5266265869140625
                  ]
                },
                {
                  "mode": "lines+markers",
                  "name": "Mauritius",
                  "type": "scatter",
                  "x": [
                    2024,
                    2025,
                    2026,
                    2027,
                    2028
                  ],
                  "y": [
                    0.25253844261169434,
                    0.25962746143341064,
                    0.2661123275756836,
                    0.2720588445663452,
                    0.27752363681793213
                  ]
                },
                {
                  "mode": "lines+markers",
                  "name": "Norway",
                  "type": "scatter",
                  "x": [
                    2024,
                    2025,
                    2026,
                    2027,
                    2028
                  ],
                  "y": [
                    1.5751606225967407,
                    1.5809955596923828,
                    1.5864311456680298,
                    1.591506838798523,
                    1.5962576866149902
                  ]
                },
                {
                  "mode": "lines+markers",
                  "name": "Netherlands",
                  "type": "scatter",
                  "x": [
                    2024,
                    2025,
                    2026,
                    2027,
                    2028
                  ],
                  "y": [
                    1.579931616783142,
                    1.5852676630020142,
                    1.5902568101882935,
                    1.5949326753616333,
                    1.5993232727050781
                  ]
                },
                {
                  "mode": "lines+markers",
                  "name": "Guinea",
                  "type": "scatter",
                  "x": [
                    2024,
                    2025,
                    2026,
                    2027,
                    2028
                  ],
                  "y": [
                    -0.5795498490333557,
                    -0.5753852725028992,
                    -0.5709648728370667,
                    -0.5662807822227478,
                    -0.5613259673118591
                  ]
                },
                {
                  "mode": "lines+markers",
                  "name": "Taiwan Province of China",
                  "type": "scatter",
                  "x": [
                    2024,
                    2025,
                    2026,
                    2027,
                    2028
                  ],
                  "y": [
                    1.0448881387710571,
                    1.0490018129348755,
                    1.0533759593963623,
                    1.058035135269165,
                    1.063008189201355
                  ]
                },
                {
                  "mode": "lines+markers",
                  "name": "Australia",
                  "type": "scatter",
                  "x": [
                    2024,
                    2025,
                    2026,
                    2027,
                    2028
                  ],
                  "y": [
                    1.3747625350952148,
                    1.3794008493423462,
                    1.383760929107666,
                    1.3878669738769531,
                    1.3917406797409058
                  ]
                },
                {
                  "mode": "lines+markers",
                  "name": "Zimbabwe",
                  "type": "scatter",
                  "x": [
                    2024,
                    2025,
                    2026,
                    2027,
                    2028
                  ],
                  "y": [
                    -1.69271981716156,
                    -1.687588095664978,
                    -1.6832256317138672,
                    -1.6795251369476318,
                    -1.6763916015625
                  ]
                },
                {
                  "mode": "lines+markers",
                  "name": "Colombia",
                  "type": "scatter",
                  "x": [
                    2024,
                    2025,
                    2026,
                    2027,
                    2028
                  ],
                  "y": [
                    0.37628674507141113,
                    0.3797813653945923,
                    0.38388895988464355,
                    0.38826286792755127,
                    0.3926093578338623
                  ]
                },
                {
                  "mode": "lines+markers",
                  "name": "Denmark",
                  "type": "scatter",
                  "x": [
                    2024,
                    2025,
                    2026,
                    2027,
                    2028
                  ],
                  "y": [
                    1.7995433807373047,
                    1.8033761978149414,
                    1.8070052862167358,
                    1.8104465007781982,
                    1.8137140274047852
                  ]
                },
                {
                  "mode": "lines+markers",
                  "name": "Uruguay",
                  "type": "scatter",
                  "x": [
                    2024,
                    2025,
                    2026,
                    2027,
                    2028
                  ],
                  "y": [
                    1.049505352973938,
                    1.0518921613693237,
                    1.0544012784957886,
                    1.0570417642593384,
                    1.0598219633102417
                  ]
                },
                {
                  "mode": "lines+markers",
                  "name": "France",
                  "type": "scatter",
                  "x": [
                    2024,
                    2025,
                    2026,
                    2027,
                    2028
                  ],
                  "y": [
                    0.9563919305801392,
                    0.9587479829788208,
                    0.9609988927841187,
                    0.9631515741348267,
                    0.965212345123291
                  ]
                },
                {
                  "mode": "lines+markers",
                  "name": "Cyprus",
                  "type": "scatter",
                  "x": [
                    2024,
                    2025,
                    2026,
                    2027,
                    2028
                  ],
                  "y": [
                    0.5242435932159424,
                    0.5263463258743286,
                    0.5283476114273071,
                    0.5302536487579346,
                    0.5320709943771362
                  ]
                },
                {
                  "mode": "lines+markers",
                  "name": "Belgium",
                  "type": "scatter",
                  "x": [
                    2024,
                    2025,
                    2026,
                    2027,
                    2028
                  ],
                  "y": [
                    1.299511194229126,
                    1.3012654781341553,
                    1.3031049966812134,
                    1.3050354719161987,
                    1.3070632219314575
                  ]
                },
                {
                  "mode": "lines+markers",
                  "name": "Finland",
                  "type": "scatter",
                  "x": [
                    2024,
                    2025,
                    2026,
                    2027,
                    2028
                  ],
                  "y": [
                    1.9705215692520142,
                    1.9722012281417847,
                    1.9738214015960693,
                    1.9753847122192383,
                    1.9768942594528198
                  ]
                },
                {
                  "mode": "lines+markers",
                  "name": "Congo (Brazzaville)",
                  "type": "scatter",
                  "x": [
                    2024,
                    2025,
                    2026,
                    2027,
                    2028
                  ],
                  "y": [
                    -0.4675676226615906,
                    -0.46536511182785034,
                    -0.4637705087661743,
                    -0.46261709928512573,
                    -0.461783230304718
                  ]
                },
                {
                  "mode": "lines+markers",
                  "name": "Venezuela",
                  "type": "scatter",
                  "x": [
                    2024,
                    2025,
                    2026,
                    2027,
                    2028
                  ],
                  "y": [
                    0.2520623803138733,
                    0.25376665592193604,
                    0.2552231550216675,
                    0.2564677596092224,
                    0.25753113627433777
                  ]
                },
                {
                  "mode": "lines+markers",
                  "name": "Kazakhstan",
                  "type": "scatter",
                  "x": [
                    2024,
                    2025,
                    2026,
                    2027,
                    2028
                  ],
                  "y": [
                    0.7258163094520569,
                    0.7270472645759583,
                    0.728344738483429,
                    0.7297130227088928,
                    0.7311566472053528
                  ]
                },
                {
                  "mode": "lines+markers",
                  "name": "Cameroon",
                  "type": "scatter",
                  "x": [
                    2024,
                    2025,
                    2026,
                    2027,
                    2028
                  ],
                  "y": [
                    -0.4772610664367676,
                    -0.4767810106277466,
                    -0.4762744903564453,
                    -0.4757404327392578,
                    -0.4751774072647095
                  ]
                },
                {
                  "mode": "lines+markers",
                  "name": "Ivory Coast",
                  "type": "scatter",
                  "x": [
                    2024,
                    2025,
                    2026,
                    2027,
                    2028
                  ],
                  "y": [
                    -0.129774808883667,
                    -0.1293027400970459,
                    -0.1288316249847412,
                    -0.12836158275604248,
                    -0.12789273262023926
                  ]
                },
                {
                  "mode": "lines+markers",
                  "name": "United Arab Emirates",
                  "type": "scatter",
                  "x": [
                    2024,
                    2025,
                    2026,
                    2027,
                    2028
                  ],
                  "y": [
                    1.1062434911727905,
                    1.1066114902496338,
                    1.1069895029067993,
                    1.1073777675628662,
                    1.1077766418457031
                  ]
                },
                {
                  "mode": "lines+markers",
                  "name": "Mongolia",
                  "type": "scatter",
                  "x": [
                    2024,
                    2025,
                    2026,
                    2027,
                    2028
                  ],
                  "y": [
                    0.08602714538574219,
                    0.0863645076751709,
                    0.08671009540557861,
                    0.08706414699554443,
                    0.08742678165435791
                  ]
                },
                {
                  "mode": "lines+markers",
                  "name": "El Salvador",
                  "type": "scatter",
                  "x": [
                    2024,
                    2025,
                    2026,
                    2027,
                    2028
                  ],
                  "y": [
                    0.8874797224998474,
                    0.8876883387565613,
                    0.8878999352455139,
                    0.8881143927574158,
                    0.888331949710846
                  ]
                },
                {
                  "mode": "lines+markers",
                  "name": "Iran",
                  "type": "scatter",
                  "x": [
                    2024,
                    2025,
                    2026,
                    2027,
                    2028
                  ],
                  "y": [
                    -0.4259476065635681,
                    -0.4257505536079407,
                    -0.42557841539382935,
                    -0.4254280924797058,
                    -0.4252968430519104
                  ]
                },
                {
                  "mode": "lines+markers",
                  "name": "Slovakia",
                  "type": "scatter",
                  "x": [
                    2024,
                    2025,
                    2026,
                    2027,
                    2028
                  ],
                  "y": [
                    0.6909537315368652,
                    0.6910290718078613,
                    0.6911050081253052,
                    0.6911817789077759,
                    0.6912591457366943
                  ]
                },
                {
                  "mode": "lines+markers",
                  "name": "Ukraine",
                  "type": "scatter",
                  "x": [
                    2024,
                    2025,
                    2026,
                    2027,
                    2028
                  ],
                  "y": [
                    -0.721165657043457,
                    -0.7211209535598755,
                    -0.7210756540298462,
                    -0.721030592918396,
                    -0.7209855318069458
                  ]
                },
                {
                  "mode": "lines+markers",
                  "name": "Japan",
                  "type": "scatter",
                  "x": [
                    2024,
                    2025,
                    2026,
                    2027,
                    2028
                  ],
                  "y": [
                    0.3789914846420288,
                    0.37902653217315674,
                    0.3790624141693115,
                    0.3790990114212036,
                    0.379136323928833
                  ]
                },
                {
                  "mode": "lines+markers",
                  "name": "Spain",
                  "type": "scatter",
                  "x": [
                    2024,
                    2025,
                    2026,
                    2027,
                    2028
                  ],
                  "y": [
                    0.8641794323921204,
                    0.8641902804374695,
                    0.8642008900642395,
                    0.86421138048172,
                    0.8642218708992004
                  ]
                },
                {
                  "mode": "lines+markers",
                  "name": "Moldova",
                  "type": "scatter",
                  "x": [
                    2024,
                    2025,
                    2026,
                    2027,
                    2028
                  ],
                  "y": [
                    0.28205621242523193,
                    0.28201889991760254,
                    0.28198063373565674,
                    0.28194165229797363,
                    0.28190183639526367
                  ]
                },
                {
                  "mode": "lines+markers",
                  "name": "Bosnia and Herzegovina",
                  "type": "scatter",
                  "x": [
                    2024,
                    2025,
                    2026,
                    2027,
                    2028
                  ],
                  "y": [
                    0.46681880950927734,
                    0.4667006731033325,
                    0.4665803909301758,
                    0.46645820140838623,
                    0.4663337469100952
                  ]
                },
                {
                  "mode": "lines+markers",
                  "name": "Myanmar",
                  "type": "scatter",
                  "x": [
                    2024,
                    2025,
                    2026,
                    2027,
                    2028
                  ],
                  "y": [
                    -0.9710713624954224,
                    -0.9712190628051758,
                    -0.971368670463562,
                    -0.971520185470581,
                    -0.9716733694076538
                  ]
                },
                {
                  "mode": "lines+markers",
                  "name": "Hungary",
                  "type": "scatter",
                  "x": [
                    2024,
                    2025,
                    2026,
                    2027,
                    2028
                  ],
                  "y": [
                    0.42767488956451416,
                    0.4275163412094116,
                    0.4273580312728882,
                    0.4271998405456543,
                    0.42704176902770996
                  ]
                },
                {
                  "mode": "lines+markers",
                  "name": "Portugal",
                  "type": "scatter",
                  "x": [
                    2024,
                    2025,
                    2026,
                    2027,
                    2028
                  ],
                  "y": [
                    0.41736161708831787,
                    0.41667723655700684,
                    0.41600489616394043,
                    0.41534507274627686,
                    0.41469740867614746
                  ]
                },
                {
                  "mode": "lines+markers",
                  "name": "Bolivia",
                  "type": "scatter",
                  "x": [
                    2024,
                    2025,
                    2026,
                    2027,
                    2028
                  ],
                  "y": [
                    0.3329193592071533,
                    0.33127856254577637,
                    0.3296016454696655,
                    0.32788920402526855,
                    0.32614147663116455
                  ]
                },
                {
                  "mode": "lines+markers",
                  "name": "Nepal",
                  "type": "scatter",
                  "x": [
                    2024,
                    2025,
                    2026,
                    2027,
                    2028
                  ],
                  "y": [
                    -0.08600419759750366,
                    -0.08803479373455048,
                    -0.09013117849826813,
                    -0.09229554235935211,
                    -0.09453010559082031
                  ]
                },
                {
                  "mode": "lines+markers",
                  "name": "North Macedonia",
                  "type": "scatter",
                  "x": [
                    2024,
                    2025,
                    2026,
                    2027,
                    2028
                  ],
                  "y": [
                    -0.07407921552658081,
                    -0.07645878195762634,
                    -0.07874095439910889,
                    -0.08093154430389404,
                    -0.0830359160900116
                  ]
                },
                {
                  "mode": "lines+markers",
                  "name": "Indonesia",
                  "type": "scatter",
                  "x": [
                    2024,
                    2025,
                    2026,
                    2027,
                    2028
                  ],
                  "y": [
                    0.18339794874191284,
                    0.17994263768196106,
                    0.1772909164428711,
                    0.17525812983512878,
                    0.17368429899215698
                  ]
                },
                {
                  "mode": "lines+markers",
                  "name": "Kenya",
                  "type": "scatter",
                  "x": [
                    2024,
                    2025,
                    2026,
                    2027,
                    2028
                  ],
                  "y": [
                    -0.8806160688400269,
                    -0.8837652206420898,
                    -0.8870741128921509,
                    -0.8905549049377441,
                    -0.8942211866378784
                  ]
                },
                {
                  "mode": "lines+markers",
                  "name": "Tajikistan",
                  "type": "scatter",
                  "x": [
                    2024,
                    2025,
                    2026,
                    2027,
                    2028
                  ],
                  "y": [
                    -0.09603726863861084,
                    -0.09939336776733398,
                    -0.10301363468170166,
                    -0.10692226886749268,
                    -0.11114537715911865
                  ]
                },
                {
                  "mode": "lines+markers",
                  "name": "Gabon",
                  "type": "scatter",
                  "x": [
                    2024,
                    2025,
                    2026,
                    2027,
                    2028
                  ],
                  "y": [
                    -0.3450891375541687,
                    -0.35231560468673706,
                    -0.35904234647750854,
                    -0.3653187155723572,
                    -0.3711875081062317
                  ]
                },
                {
                  "mode": "lines+markers",
                  "name": "Mali",
                  "type": "scatter",
                  "x": [
                    2024,
                    2025,
                    2026,
                    2027,
                    2028
                  ],
                  "y": [
                    -0.9947414398193359,
                    -1.0006033182144165,
                    -1.0072861909866333,
                    -1.014925479888916,
                    -1.0236846208572388
                  ]
                },
                {
                  "mode": "lines+markers",
                  "name": "Chile",
                  "type": "scatter",
                  "x": [
                    2024,
                    2025,
                    2026,
                    2027,
                    2028
                  ],
                  "y": [
                    0.6544320583343506,
                    0.6454342603683472,
                    0.6363661289215088,
                    0.6272584199905396,
                    0.6181421279907227
                  ]
                },
                {
                  "mode": "lines+markers",
                  "name": "Greece",
                  "type": "scatter",
                  "x": [
                    2024,
                    2025,
                    2026,
                    2027,
                    2028
                  ],
                  "y": [
                    0.2676488161087036,
                    0.25723183155059814,
                    0.24642348289489746,
                    0.23529410362243652,
                    0.22388744354248047
                  ]
                },
                {
                  "mode": "lines+markers",
                  "name": "Egypt",
                  "type": "scatter",
                  "x": [
                    2024,
                    2025,
                    2026,
                    2027,
                    2028
                  ],
                  "y": [
                    -1.4327757358551025,
                    -1.4422926902770996,
                    -1.452821969985962,
                    -1.4645144939422607,
                    -1.477553129196167
                  ]
                },
                {
                  "mode": "lines+markers",
                  "name": "Albania",
                  "type": "scatter",
                  "x": [
                    2024,
                    2025,
                    2026,
                    2027,
                    2028
                  ],
                  "y": [
                    -0.04946589469909668,
                    -0.06348252296447754,
                    -0.07645702362060547,
                    -0.08850395679473877,
                    -0.09972167015075684
                  ]
                },
                {
                  "mode": "lines+markers",
                  "name": "Laos",
                  "type": "scatter",
                  "x": [
                    2024,
                    2025,
                    2026,
                    2027,
                    2028
                  ],
                  "y": [
                    -0.014526546001434326,
                    -0.02929556369781494,
                    -0.04245448112487793,
                    -0.054245948791503906,
                    -0.06486612558364868
                  ]
                },
                {
                  "mode": "lines+markers",
                  "name": "Jordan",
                  "type": "scatter",
                  "x": [
                    2024,
                    2025,
                    2026,
                    2027,
                    2028
                  ],
                  "y": [
                    -1.0695624351501465,
                    -1.0814275741577148,
                    -1.0947034358978271,
                    -1.109643816947937,
                    -1.1265664100646973
                  ]
                },
                {
                  "mode": "lines+markers",
                  "name": "Namibia",
                  "type": "scatter",
                  "x": [
                    2024,
                    2025,
                    2026,
                    2027,
                    2028
                  ],
                  "y": [
                    -0.40157151222229004,
                    -0.4194481372833252,
                    -0.4349937438964844,
                    -0.4486052989959717,
                    -0.4605942964553833
                  ]
                },
                {
                  "mode": "lines+markers",
                  "name": "Türkiye",
                  "type": "scatter",
                  "x": [
                    2024,
                    2025,
                    2026,
                    2027,
                    2028
                  ],
                  "y": [
                    -0.04723513126373291,
                    -0.07147091627120972,
                    -0.09201645851135254,
                    -0.10962295532226562,
                    -0.12485027313232422
                  ]
                },
                {
                  "mode": "lines+markers",
                  "name": "Tanzania",
                  "type": "scatter",
                  "x": [
                    2024,
                    2025,
                    2026,
                    2027,
                    2028
                  ],
                  "y": [
                    -1.3161808252334595,
                    -1.3458365201950073,
                    -1.3712152242660522,
                    -1.3931772708892822,
                    -1.4123643636703491
                  ]
                },
                {
                  "mode": "lines+markers",
                  "name": "Georgia",
                  "type": "scatter",
                  "x": [
                    2024,
                    2025,
                    2026,
                    2027,
                    2028
                  ],
                  "y": [
                    -0.1587599515914917,
                    -0.19316422939300537,
                    -0.22256767749786377,
                    -0.24797987937927246,
                    -0.2701542377471924
                  ]
                },
                {
                  "mode": "lines+markers",
                  "name": "Nigeria",
                  "type": "scatter",
                  "x": [
                    2024,
                    2025,
                    2026,
                    2027,
                    2028
                  ],
                  "y": [
                    -0.5681931972503662,
                    -0.5932966470718384,
                    -0.6221604347229004,
                    -0.653215765953064,
                    -0.6830252408981323
                  ]
                },
                {
                  "mode": "lines+markers",
                  "name": "Morocco",
                  "type": "scatter",
                  "x": [
                    2024,
                    2025,
                    2026,
                    2027,
                    2028
                  ],
                  "y": [
                    -0.9259209036827087,
                    -0.9744707942008972,
                    -1.0339972972869873,
                    -1.108572006225586,
                    -1.204517126083374
                  ]
                },
                {
                  "mode": "lines+markers",
                  "name": "India",
                  "type": "scatter",
                  "x": [
                    2024,
                    2025,
                    2026,
                    2027,
                    2028
                  ],
                  "y": [
                    -0.8868865370750427,
                    -1.0028141736984253,
                    -1.087151050567627,
                    -1.1511235237121582,
                    -1.2011606693267822
                  ]
                },
                {
                  "mode": "lines+markers",
                  "name": "Bangladesh",
                  "type": "scatter",
                  "x": [
                    2024,
                    2025,
                    2026,
                    2027,
                    2028
                  ],
                  "y": [
                    -1.2952690124511719,
                    -1.4007956981658936,
                    -1.5491535663604736,
                    -1.7696528434753418,
                    -2.1243841648101807
                  ]
                },
                {
                  "mode": "lines+markers",
                  "name": "Sri Lanka",
                  "type": "scatter",
                  "x": [
                    2024,
                    2025,
                    2026,
                    2027,
                    2028
                  ],
                  "y": [
                    -1.7662707567214966,
                    -1.8920880556106567,
                    -2.067714214324951,
                    -2.3278164863586426,
                    -2.7464542388916016
                  ]
                },
                {
                  "mode": "lines+markers",
                  "name": "Ghana",
                  "type": "scatter",
                  "x": [
                    2024,
                    2025,
                    2026,
                    2027,
                    2028
                  ],
                  "y": [
                    -1.159616231918335,
                    -1.3078789710998535,
                    -1.528303861618042,
                    -1.8859267234802246,
                    -2.548365354537964
                  ]
                },
                {
                  "mode": "lines+markers",
                  "name": "Cambodia",
                  "type": "scatter",
                  "x": [
                    2024,
                    2025,
                    2026,
                    2027,
                    2028
                  ],
                  "y": [
                    -1.2465052604675293,
                    -1.4186604022979736,
                    -1.6706593036651611,
                    -2.0702755451202393,
                    -2.7843079566955566
                  ]
                },
                {
                  "mode": "lines+markers",
                  "name": "Lebanon",
                  "type": "scatter",
                  "x": [
                    2024,
                    2025,
                    2026,
                    2027,
                    2028
                  ],
                  "y": [
                    -1.810027003288269,
                    -1.993235468864441,
                    -2.2765026092529297,
                    -2.753021717071533,
                    -3.666534900665283
                  ]
                },
                {
                  "mode": "lines+markers",
                  "name": "Benin",
                  "type": "scatter",
                  "x": [
                    2024,
                    2025,
                    2026,
                    2027,
                    2028
                  ],
                  "y": [
                    -1.1035372018814087,
                    -1.3433188199996948,
                    -1.7375291585922241,
                    -2.474160671234131,
                    -4.184546947479248
                  ]
                }
              ],
              "layout": {
                "height": 600,
                "hovermode": "closest",
                "template": {
                  "data": {
                    "bar": [
                      {
                        "error_x": {
                          "color": "#2a3f5f"
                        },
                        "error_y": {
                          "color": "#2a3f5f"
                        },
                        "marker": {
                          "line": {
                            "color": "#E5ECF6",
                            "width": 0.5
                          },
                          "pattern": {
                            "fillmode": "overlay",
                            "size": 10,
                            "solidity": 0.2
                          }
                        },
                        "type": "bar"
                      }
                    ],
                    "barpolar": [
                      {
                        "marker": {
                          "line": {
                            "color": "#E5ECF6",
                            "width": 0.5
                          },
                          "pattern": {
                            "fillmode": "overlay",
                            "size": 10,
                            "solidity": 0.2
                          }
                        },
                        "type": "barpolar"
                      }
                    ],
                    "carpet": [
                      {
                        "aaxis": {
                          "endlinecolor": "#2a3f5f",
                          "gridcolor": "white",
                          "linecolor": "white",
                          "minorgridcolor": "white",
                          "startlinecolor": "#2a3f5f"
                        },
                        "baxis": {
                          "endlinecolor": "#2a3f5f",
                          "gridcolor": "white",
                          "linecolor": "white",
                          "minorgridcolor": "white",
                          "startlinecolor": "#2a3f5f"
                        },
                        "type": "carpet"
                      }
                    ],
                    "choropleth": [
                      {
                        "colorbar": {
                          "outlinewidth": 0,
                          "ticks": ""
                        },
                        "type": "choropleth"
                      }
                    ],
                    "contour": [
                      {
                        "colorbar": {
                          "outlinewidth": 0,
                          "ticks": ""
                        },
                        "colorscale": [
                          [
                            0,
                            "#0d0887"
                          ],
                          [
                            0.1111111111111111,
                            "#46039f"
                          ],
                          [
                            0.2222222222222222,
                            "#7201a8"
                          ],
                          [
                            0.3333333333333333,
                            "#9c179e"
                          ],
                          [
                            0.4444444444444444,
                            "#bd3786"
                          ],
                          [
                            0.5555555555555556,
                            "#d8576b"
                          ],
                          [
                            0.6666666666666666,
                            "#ed7953"
                          ],
                          [
                            0.7777777777777778,
                            "#fb9f3a"
                          ],
                          [
                            0.8888888888888888,
                            "#fdca26"
                          ],
                          [
                            1,
                            "#f0f921"
                          ]
                        ],
                        "type": "contour"
                      }
                    ],
                    "contourcarpet": [
                      {
                        "colorbar": {
                          "outlinewidth": 0,
                          "ticks": ""
                        },
                        "type": "contourcarpet"
                      }
                    ],
                    "heatmap": [
                      {
                        "colorbar": {
                          "outlinewidth": 0,
                          "ticks": ""
                        },
                        "colorscale": [
                          [
                            0,
                            "#0d0887"
                          ],
                          [
                            0.1111111111111111,
                            "#46039f"
                          ],
                          [
                            0.2222222222222222,
                            "#7201a8"
                          ],
                          [
                            0.3333333333333333,
                            "#9c179e"
                          ],
                          [
                            0.4444444444444444,
                            "#bd3786"
                          ],
                          [
                            0.5555555555555556,
                            "#d8576b"
                          ],
                          [
                            0.6666666666666666,
                            "#ed7953"
                          ],
                          [
                            0.7777777777777778,
                            "#fb9f3a"
                          ],
                          [
                            0.8888888888888888,
                            "#fdca26"
                          ],
                          [
                            1,
                            "#f0f921"
                          ]
                        ],
                        "type": "heatmap"
                      }
                    ],
                    "heatmapgl": [
                      {
                        "colorbar": {
                          "outlinewidth": 0,
                          "ticks": ""
                        },
                        "colorscale": [
                          [
                            0,
                            "#0d0887"
                          ],
                          [
                            0.1111111111111111,
                            "#46039f"
                          ],
                          [
                            0.2222222222222222,
                            "#7201a8"
                          ],
                          [
                            0.3333333333333333,
                            "#9c179e"
                          ],
                          [
                            0.4444444444444444,
                            "#bd3786"
                          ],
                          [
                            0.5555555555555556,
                            "#d8576b"
                          ],
                          [
                            0.6666666666666666,
                            "#ed7953"
                          ],
                          [
                            0.7777777777777778,
                            "#fb9f3a"
                          ],
                          [
                            0.8888888888888888,
                            "#fdca26"
                          ],
                          [
                            1,
                            "#f0f921"
                          ]
                        ],
                        "type": "heatmapgl"
                      }
                    ],
                    "histogram": [
                      {
                        "marker": {
                          "pattern": {
                            "fillmode": "overlay",
                            "size": 10,
                            "solidity": 0.2
                          }
                        },
                        "type": "histogram"
                      }
                    ],
                    "histogram2d": [
                      {
                        "colorbar": {
                          "outlinewidth": 0,
                          "ticks": ""
                        },
                        "colorscale": [
                          [
                            0,
                            "#0d0887"
                          ],
                          [
                            0.1111111111111111,
                            "#46039f"
                          ],
                          [
                            0.2222222222222222,
                            "#7201a8"
                          ],
                          [
                            0.3333333333333333,
                            "#9c179e"
                          ],
                          [
                            0.4444444444444444,
                            "#bd3786"
                          ],
                          [
                            0.5555555555555556,
                            "#d8576b"
                          ],
                          [
                            0.6666666666666666,
                            "#ed7953"
                          ],
                          [
                            0.7777777777777778,
                            "#fb9f3a"
                          ],
                          [
                            0.8888888888888888,
                            "#fdca26"
                          ],
                          [
                            1,
                            "#f0f921"
                          ]
                        ],
                        "type": "histogram2d"
                      }
                    ],
                    "histogram2dcontour": [
                      {
                        "colorbar": {
                          "outlinewidth": 0,
                          "ticks": ""
                        },
                        "colorscale": [
                          [
                            0,
                            "#0d0887"
                          ],
                          [
                            0.1111111111111111,
                            "#46039f"
                          ],
                          [
                            0.2222222222222222,
                            "#7201a8"
                          ],
                          [
                            0.3333333333333333,
                            "#9c179e"
                          ],
                          [
                            0.4444444444444444,
                            "#bd3786"
                          ],
                          [
                            0.5555555555555556,
                            "#d8576b"
                          ],
                          [
                            0.6666666666666666,
                            "#ed7953"
                          ],
                          [
                            0.7777777777777778,
                            "#fb9f3a"
                          ],
                          [
                            0.8888888888888888,
                            "#fdca26"
                          ],
                          [
                            1,
                            "#f0f921"
                          ]
                        ],
                        "type": "histogram2dcontour"
                      }
                    ],
                    "mesh3d": [
                      {
                        "colorbar": {
                          "outlinewidth": 0,
                          "ticks": ""
                        },
                        "type": "mesh3d"
                      }
                    ],
                    "parcoords": [
                      {
                        "line": {
                          "colorbar": {
                            "outlinewidth": 0,
                            "ticks": ""
                          }
                        },
                        "type": "parcoords"
                      }
                    ],
                    "pie": [
                      {
                        "automargin": true,
                        "type": "pie"
                      }
                    ],
                    "scatter": [
                      {
                        "fillpattern": {
                          "fillmode": "overlay",
                          "size": 10,
                          "solidity": 0.2
                        },
                        "type": "scatter"
                      }
                    ],
                    "scatter3d": [
                      {
                        "line": {
                          "colorbar": {
                            "outlinewidth": 0,
                            "ticks": ""
                          }
                        },
                        "marker": {
                          "colorbar": {
                            "outlinewidth": 0,
                            "ticks": ""
                          }
                        },
                        "type": "scatter3d"
                      }
                    ],
                    "scattercarpet": [
                      {
                        "marker": {
                          "colorbar": {
                            "outlinewidth": 0,
                            "ticks": ""
                          }
                        },
                        "type": "scattercarpet"
                      }
                    ],
                    "scattergeo": [
                      {
                        "marker": {
                          "colorbar": {
                            "outlinewidth": 0,
                            "ticks": ""
                          }
                        },
                        "type": "scattergeo"
                      }
                    ],
                    "scattergl": [
                      {
                        "marker": {
                          "colorbar": {
                            "outlinewidth": 0,
                            "ticks": ""
                          }
                        },
                        "type": "scattergl"
                      }
                    ],
                    "scattermapbox": [
                      {
                        "marker": {
                          "colorbar": {
                            "outlinewidth": 0,
                            "ticks": ""
                          }
                        },
                        "type": "scattermapbox"
                      }
                    ],
                    "scatterpolar": [
                      {
                        "marker": {
                          "colorbar": {
                            "outlinewidth": 0,
                            "ticks": ""
                          }
                        },
                        "type": "scatterpolar"
                      }
                    ],
                    "scatterpolargl": [
                      {
                        "marker": {
                          "colorbar": {
                            "outlinewidth": 0,
                            "ticks": ""
                          }
                        },
                        "type": "scatterpolargl"
                      }
                    ],
                    "scatterternary": [
                      {
                        "marker": {
                          "colorbar": {
                            "outlinewidth": 0,
                            "ticks": ""
                          }
                        },
                        "type": "scatterternary"
                      }
                    ],
                    "surface": [
                      {
                        "colorbar": {
                          "outlinewidth": 0,
                          "ticks": ""
                        },
                        "colorscale": [
                          [
                            0,
                            "#0d0887"
                          ],
                          [
                            0.1111111111111111,
                            "#46039f"
                          ],
                          [
                            0.2222222222222222,
                            "#7201a8"
                          ],
                          [
                            0.3333333333333333,
                            "#9c179e"
                          ],
                          [
                            0.4444444444444444,
                            "#bd3786"
                          ],
                          [
                            0.5555555555555556,
                            "#d8576b"
                          ],
                          [
                            0.6666666666666666,
                            "#ed7953"
                          ],
                          [
                            0.7777777777777778,
                            "#fb9f3a"
                          ],
                          [
                            0.8888888888888888,
                            "#fdca26"
                          ],
                          [
                            1,
                            "#f0f921"
                          ]
                        ],
                        "type": "surface"
                      }
                    ],
                    "table": [
                      {
                        "cells": {
                          "fill": {
                            "color": "#EBF0F8"
                          },
                          "line": {
                            "color": "white"
                          }
                        },
                        "header": {
                          "fill": {
                            "color": "#C8D4E3"
                          },
                          "line": {
                            "color": "white"
                          }
                        },
                        "type": "table"
                      }
                    ]
                  },
                  "layout": {
                    "annotationdefaults": {
                      "arrowcolor": "#2a3f5f",
                      "arrowhead": 0,
                      "arrowwidth": 1
                    },
                    "autotypenumbers": "strict",
                    "coloraxis": {
                      "colorbar": {
                        "outlinewidth": 0,
                        "ticks": ""
                      }
                    },
                    "colorscale": {
                      "diverging": [
                        [
                          0,
                          "#8e0152"
                        ],
                        [
                          0.1,
                          "#c51b7d"
                        ],
                        [
                          0.2,
                          "#de77ae"
                        ],
                        [
                          0.3,
                          "#f1b6da"
                        ],
                        [
                          0.4,
                          "#fde0ef"
                        ],
                        [
                          0.5,
                          "#f7f7f7"
                        ],
                        [
                          0.6,
                          "#e6f5d0"
                        ],
                        [
                          0.7,
                          "#b8e186"
                        ],
                        [
                          0.8,
                          "#7fbc41"
                        ],
                        [
                          0.9,
                          "#4d9221"
                        ],
                        [
                          1,
                          "#276419"
                        ]
                      ],
                      "sequential": [
                        [
                          0,
                          "#0d0887"
                        ],
                        [
                          0.1111111111111111,
                          "#46039f"
                        ],
                        [
                          0.2222222222222222,
                          "#7201a8"
                        ],
                        [
                          0.3333333333333333,
                          "#9c179e"
                        ],
                        [
                          0.4444444444444444,
                          "#bd3786"
                        ],
                        [
                          0.5555555555555556,
                          "#d8576b"
                        ],
                        [
                          0.6666666666666666,
                          "#ed7953"
                        ],
                        [
                          0.7777777777777778,
                          "#fb9f3a"
                        ],
                        [
                          0.8888888888888888,
                          "#fdca26"
                        ],
                        [
                          1,
                          "#f0f921"
                        ]
                      ],
                      "sequentialminus": [
                        [
                          0,
                          "#0d0887"
                        ],
                        [
                          0.1111111111111111,
                          "#46039f"
                        ],
                        [
                          0.2222222222222222,
                          "#7201a8"
                        ],
                        [
                          0.3333333333333333,
                          "#9c179e"
                        ],
                        [
                          0.4444444444444444,
                          "#bd3786"
                        ],
                        [
                          0.5555555555555556,
                          "#d8576b"
                        ],
                        [
                          0.6666666666666666,
                          "#ed7953"
                        ],
                        [
                          0.7777777777777778,
                          "#fb9f3a"
                        ],
                        [
                          0.8888888888888888,
                          "#fdca26"
                        ],
                        [
                          1,
                          "#f0f921"
                        ]
                      ]
                    },
                    "colorway": [
                      "#636efa",
                      "#EF553B",
                      "#00cc96",
                      "#ab63fa",
                      "#FFA15A",
                      "#19d3f3",
                      "#FF6692",
                      "#B6E880",
                      "#FF97FF",
                      "#FECB52"
                    ],
                    "font": {
                      "color": "#2a3f5f"
                    },
                    "geo": {
                      "bgcolor": "white",
                      "lakecolor": "white",
                      "landcolor": "#E5ECF6",
                      "showlakes": true,
                      "showland": true,
                      "subunitcolor": "white"
                    },
                    "hoverlabel": {
                      "align": "left"
                    },
                    "hovermode": "closest",
                    "mapbox": {
                      "style": "light"
                    },
                    "paper_bgcolor": "white",
                    "plot_bgcolor": "#E5ECF6",
                    "polar": {
                      "angularaxis": {
                        "gridcolor": "white",
                        "linecolor": "white",
                        "ticks": ""
                      },
                      "bgcolor": "#E5ECF6",
                      "radialaxis": {
                        "gridcolor": "white",
                        "linecolor": "white",
                        "ticks": ""
                      }
                    },
                    "scene": {
                      "xaxis": {
                        "backgroundcolor": "#E5ECF6",
                        "gridcolor": "white",
                        "gridwidth": 2,
                        "linecolor": "white",
                        "showbackground": true,
                        "ticks": "",
                        "zerolinecolor": "white"
                      },
                      "yaxis": {
                        "backgroundcolor": "#E5ECF6",
                        "gridcolor": "white",
                        "gridwidth": 2,
                        "linecolor": "white",
                        "showbackground": true,
                        "ticks": "",
                        "zerolinecolor": "white"
                      },
                      "zaxis": {
                        "backgroundcolor": "#E5ECF6",
                        "gridcolor": "white",
                        "gridwidth": 2,
                        "linecolor": "white",
                        "showbackground": true,
                        "ticks": "",
                        "zerolinecolor": "white"
                      }
                    },
                    "shapedefaults": {
                      "line": {
                        "color": "#2a3f5f"
                      }
                    },
                    "ternary": {
                      "aaxis": {
                        "gridcolor": "white",
                        "linecolor": "white",
                        "ticks": ""
                      },
                      "baxis": {
                        "gridcolor": "white",
                        "linecolor": "white",
                        "ticks": ""
                      },
                      "bgcolor": "#E5ECF6",
                      "caxis": {
                        "gridcolor": "white",
                        "linecolor": "white",
                        "ticks": ""
                      }
                    },
                    "title": {
                      "x": 0.05
                    },
                    "xaxis": {
                      "automargin": true,
                      "gridcolor": "white",
                      "linecolor": "white",
                      "ticks": "",
                      "title": {
                        "standoff": 15
                      },
                      "zerolinecolor": "white",
                      "zerolinewidth": 2
                    },
                    "yaxis": {
                      "automargin": true,
                      "gridcolor": "white",
                      "linecolor": "white",
                      "ticks": "",
                      "title": {
                        "standoff": 15
                      },
                      "zerolinecolor": "white",
                      "zerolinewidth": 2
                    }
                  }
                },
                "title": {
                  "text": "Predicted Life Ladder for All Countries"
                },
                "width": 800,
                "xaxis": {
                  "title": {
                    "text": "Year"
                  }
                },
                "yaxis": {
                  "title": {
                    "text": "Life Ladder"
                  }
                }
              }
            }
          },
          "metadata": {},
          "output_type": "display_data"
        },
        {
          "name": "stdout",
          "output_type": "stream",
          "text": [
            "Ranking of Countries:\n",
            "1. Bulgaria: Increase/Decrease = 29.3006, Final Score = 30.0274\n",
            "2. Vietnam: Increase/Decrease = 2.2530, Final Score = 3.1952\n",
            "3. South Africa: Increase/Decrease = 1.4495, Final Score = 1.1239\n",
            "4. Mexico: Increase/Decrease = 0.3527, Final Score = 1.7532\n",
            "5. Malaysia: Increase/Decrease = 0.3495, Final Score = 0.7373\n",
            "6. Kosovo: Increase/Decrease = 0.3485, Final Score = 1.6332\n",
            "7. Poland: Increase/Decrease = 0.2969, Final Score = 1.4073\n",
            "8. Saudi Arabia: Increase/Decrease = 0.2433, Final Score = 1.5861\n",
            "9. Argentina: Increase/Decrease = 0.2306, Final Score = 1.0726\n",
            "10. Croatia: Increase/Decrease = 0.1669, Final Score = 0.6150\n",
            "11. Ecuador: Increase/Decrease = 0.1590, Final Score = 0.5203\n",
            "12. Romania: Increase/Decrease = 0.1590, Final Score = 1.0776\n",
            "13. Austria: Increase/Decrease = 0.1576, Final Score = 1.2476\n",
            "14. Estonia: Increase/Decrease = 0.1500, Final Score = 1.0156\n",
            "15. Switzerland: Increase/Decrease = 0.1453, Final Score = 1.5240\n",
            "16. Lithuania: Increase/Decrease = 0.1419, Final Score = 1.1152\n",
            "17. Nicaragua: Increase/Decrease = 0.1365, Final Score = 0.9398\n",
            "18. Kyrgyzstan: Increase/Decrease = 0.1216, Final Score = 0.5212\n",
            "19. Latvia: Increase/Decrease = 0.1160, Final Score = 0.8583\n",
            "20. United Kingdom: Increase/Decrease = 0.1144, Final Score = 1.2014\n",
            "21. Malta: Increase/Decrease = 0.1052, Final Score = 0.8652\n",
            "22. Costa Rica: Increase/Decrease = 0.1019, Final Score = 1.8085\n",
            "23. Serbia: Increase/Decrease = 0.1016, Final Score = 0.9700\n",
            "24. Senegal: Increase/Decrease = 0.0863, Final Score = -0.2390\n",
            "25. Russia: Increase/Decrease = 0.0801, Final Score = 0.4348\n",
            "26. Zambia: Increase/Decrease = 0.0779, Final Score = -1.4992\n",
            "27. United States: Increase/Decrease = 0.0695, Final Score = 1.0154\n",
            "28. Thailand: Increase/Decrease = 0.0677, Final Score = 0.7899\n",
            "29. Pakistan: Increase/Decrease = 0.0655, Final Score = -0.7525\n",
            "30. Uganda: Increase/Decrease = 0.0506, Final Score = -0.8417\n",
            "31. Canada: Increase/Decrease = 0.0453, Final Score = 1.2663\n",
            "32. New Zealand: Increase/Decrease = 0.0444, Final Score = 1.3851\n",
            "33. Dominican Republic: Increase/Decrease = 0.0407, Final Score = 0.4408\n",
            "34. Germany: Increase/Decrease = 0.0406, Final Score = 1.2164\n",
            "35. Brazil: Increase/Decrease = 0.0371, Final Score = 0.9946\n",
            "36. Israel: Increase/Decrease = 0.0371, Final Score = 1.2043\n",
            "37. South Korea: Increase/Decrease = 0.0370, Final Score = 0.6031\n",
            "38. Uzbekistan: Increase/Decrease = 0.0363, Final Score = 0.8447\n",
            "39. Philippines: Increase/Decrease = 0.0351, Final Score = 0.6729\n",
            "40. Slovenia: Increase/Decrease = 0.0346, Final Score = 1.1631\n",
            "41. Ireland: Increase/Decrease = 0.0334, Final Score = 1.2293\n",
            "42. Peru: Increase/Decrease = 0.0329, Final Score = 0.4547\n",
            "43. Tunisia: Increase/Decrease = 0.0318, Final Score = -0.8299\n",
            "44. Italy: Increase/Decrease = 0.0303, Final Score = 0.7164\n",
            "45. Sweden: Increase/Decrease = 0.0275, Final Score = 1.5266\n",
            "46. Mauritius: Increase/Decrease = 0.0250, Final Score = 0.2775\n",
            "47. Norway: Increase/Decrease = 0.0211, Final Score = 1.5963\n",
            "48. Netherlands: Increase/Decrease = 0.0194, Final Score = 1.5993\n",
            "49. Guinea: Increase/Decrease = 0.0182, Final Score = -0.5613\n",
            "50. Taiwan Province of China: Increase/Decrease = 0.0181, Final Score = 1.0630\n",
            "51. Australia: Increase/Decrease = 0.0170, Final Score = 1.3917\n",
            "52. Zimbabwe: Increase/Decrease = 0.0163, Final Score = -1.6764\n",
            "53. Colombia: Increase/Decrease = 0.0163, Final Score = 0.3926\n",
            "54. Denmark: Increase/Decrease = 0.0142, Final Score = 1.8137\n",
            "55. Uruguay: Increase/Decrease = 0.0103, Final Score = 1.0598\n",
            "56. France: Increase/Decrease = 0.0088, Final Score = 0.9652\n",
            "57. Cyprus: Increase/Decrease = 0.0078, Final Score = 0.5321\n",
            "58. Belgium: Increase/Decrease = 0.0076, Final Score = 1.3071\n",
            "59. Finland: Increase/Decrease = 0.0064, Final Score = 1.9769\n",
            "60. Congo (Brazzaville): Increase/Decrease = 0.0058, Final Score = -0.4618\n",
            "61. Venezuela: Increase/Decrease = 0.0055, Final Score = 0.2575\n",
            "62. Kazakhstan: Increase/Decrease = 0.0053, Final Score = 0.7312\n",
            "63. Cameroon: Increase/Decrease = 0.0021, Final Score = -0.4752\n",
            "64. Ivory Coast: Increase/Decrease = 0.0019, Final Score = -0.1279\n",
            "65. United Arab Emirates: Increase/Decrease = 0.0015, Final Score = 1.1078\n",
            "66. Mongolia: Increase/Decrease = 0.0014, Final Score = 0.0874\n",
            "67. El Salvador: Increase/Decrease = 0.0009, Final Score = 0.8883\n",
            "68. Iran: Increase/Decrease = 0.0007, Final Score = -0.4253\n",
            "69. Slovakia: Increase/Decrease = 0.0003, Final Score = 0.6913\n",
            "70. Ukraine: Increase/Decrease = 0.0002, Final Score = -0.7210\n",
            "71. Japan: Increase/Decrease = 0.0001, Final Score = 0.3791\n",
            "72. Spain: Increase/Decrease = 0.0000, Final Score = 0.8642\n",
            "73. Moldova: Increase/Decrease = -0.0002, Final Score = 0.2819\n",
            "74. Bosnia and Herzegovina: Increase/Decrease = -0.0005, Final Score = 0.4663\n",
            "75. Myanmar: Increase/Decrease = -0.0006, Final Score = -0.9717\n",
            "76. Hungary: Increase/Decrease = -0.0006, Final Score = 0.4270\n",
            "77. Portugal: Increase/Decrease = -0.0027, Final Score = 0.4147\n",
            "78. Bolivia: Increase/Decrease = -0.0068, Final Score = 0.3261\n",
            "79. Nepal: Increase/Decrease = -0.0085, Final Score = -0.0945\n",
            "80. North Macedonia: Increase/Decrease = -0.0090, Final Score = -0.0830\n",
            "81. Indonesia: Increase/Decrease = -0.0097, Final Score = 0.1737\n",
            "82. Kenya: Increase/Decrease = -0.0136, Final Score = -0.8942\n",
            "83. Tajikistan: Increase/Decrease = -0.0151, Final Score = -0.1111\n",
            "84. Gabon: Increase/Decrease = -0.0261, Final Score = -0.3712\n",
            "85. Mali: Increase/Decrease = -0.0289, Final Score = -1.0237\n",
            "86. Chile: Increase/Decrease = -0.0363, Final Score = 0.6181\n",
            "87. Greece: Increase/Decrease = -0.0438, Final Score = 0.2239\n",
            "88. Egypt: Increase/Decrease = -0.0448, Final Score = -1.4776\n",
            "89. Albania: Increase/Decrease = -0.0503, Final Score = -0.0997\n",
            "90. Laos: Increase/Decrease = -0.0503, Final Score = -0.0649\n",
            "91. Jordan: Increase/Decrease = -0.0570, Final Score = -1.1266\n",
            "92. Namibia: Increase/Decrease = -0.0590, Final Score = -0.4606\n",
            "93. Türkiye: Increase/Decrease = -0.0776, Final Score = -0.1249\n",
            "94. Tanzania: Increase/Decrease = -0.0962, Final Score = -1.4124\n",
            "95. Georgia: Increase/Decrease = -0.1114, Final Score = -0.2702\n",
            "96. Nigeria: Increase/Decrease = -0.1148, Final Score = -0.6830\n",
            "97. Morocco: Increase/Decrease = -0.2786, Final Score = -1.2045\n",
            "98. India: Increase/Decrease = -0.3143, Final Score = -1.2012\n",
            "99. Bangladesh: Increase/Decrease = -0.8291, Final Score = -2.1244\n",
            "100. Sri Lanka: Increase/Decrease = -0.9802, Final Score = -2.7465\n",
            "101. Ghana: Increase/Decrease = -1.3887, Final Score = -2.5484\n",
            "102. Cambodia: Increase/Decrease = -1.5378, Final Score = -2.7843\n",
            "103. Lebanon: Increase/Decrease = -1.8565, Final Score = -3.6665\n",
            "104. Benin: Increase/Decrease = -3.0810, Final Score = -4.1845\n"
          ]
        }
      ],
      "source": [
        "from plotly import graph_objects as go\n",
        "\n",
        "# Calculate the happiness score increase/decrease and final happiness score for each country\n",
        "country_stats = []\n",
        "for country, forecast in predictions.items():\n",
        "    initial_score = forecast[0]\n",
        "    final_score = forecast[-1]\n",
        "    change = final_score - initial_score\n",
        "    country_stats.append((country, change, final_score))\n",
        "\n",
        "# Sort the countries based on the happiness score increase/decrease and final happiness score\n",
        "country_stats.sort(key=lambda x: (x[1], x[2]), reverse=True)\n",
        "\n",
        "# Create traces for each country's predicted happiness scores\n",
        "traces = []\n",
        "for country, _, _ in country_stats:\n",
        "    predicted = pd.DataFrame({'Year': range(2024, 2029), 'Life Ladder': predictions[country]})\n",
        "    trace = go.Scatter(x=predicted['Year'], y=predicted['Life Ladder'], mode='lines+markers', name=country)\n",
        "    traces.append(trace)\n",
        "\n",
        "# Create the layout for the plot\n",
        "layout = go.Layout(\n",
        "    title='Predicted Life Ladder for All Countries',\n",
        "    xaxis=dict(title='Year'),\n",
        "    yaxis=dict(title='Life Ladder'),\n",
        "    hovermode='closest',\n",
        "    width=800,\n",
        "    height=600\n",
        ")\n",
        "\n",
        "# Create the figure and display the plot\n",
        "fig = go.Figure(data=traces, layout=layout)\n",
        "fig.show()\n",
        "\n",
        "# Print the ranking of countries based on happiness score increase/decrease and final happiness score\n",
        "print(\"Ranking of Countries:\")\n",
        "for i, (country, change, final_score) in enumerate(country_stats, start=1):\n",
        "    print(f\"{i}. {country}: Increase/Decrease = {change:.4f}, Final Score = {final_score:.4f}\")"
      ]
    }
  ],
  "metadata": {
    "colab": {
      "include_colab_link": true,
      "provenance": []
    },
    "kernelspec": {
      "display_name": "Python 3",
      "name": "python3"
    },
    "language_info": {
      "codemirror_mode": {
        "name": "ipython",
        "version": 3
      },
      "file_extension": ".py",
      "mimetype": "text/x-python",
      "name": "python",
      "nbconvert_exporter": "python",
      "pygments_lexer": "ipython3",
      "version": "3.10.13"
    }
  },
  "nbformat": 4,
  "nbformat_minor": 0
}
